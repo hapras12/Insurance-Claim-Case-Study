{
 "cells": [
  {
   "cell_type": "code",
   "execution_count": 1,
   "id": "26aea340",
   "metadata": {},
   "outputs": [],
   "source": [
    "import numpy as np\n",
    "import pandas as pd\n",
    "from pandas import DataFrame\n",
    "from matplotlib import pyplot as plt\n",
    "import seaborn as sns\n",
    "import datetime\n"
   ]
  },
  {
   "cell_type": "code",
   "execution_count": 2,
   "id": "a2cfd8d1",
   "metadata": {},
   "outputs": [],
   "source": [
    "#Question-1"
   ]
  },
  {
   "cell_type": "code",
   "execution_count": 7,
   "id": "bf23eff5",
   "metadata": {},
   "outputs": [],
   "source": [
    "claims= pd.read_csv(\"C:/Users/USER/Downloads/Python Foundation Case Study 3 - Insurance Claims Case Study/claims.csv\")\n",
    "cust= pd.read_csv(\"C:/Users/USER/Downloads/Python Foundation Case Study 3 - Insurance Claims Case Study/cust_demographics.csv\")"
   ]
  },
  {
   "cell_type": "code",
   "execution_count": 9,
   "id": "8b14335e",
   "metadata": {},
   "outputs": [
    {
     "data": {
      "text/html": [
       "<div>\n",
       "<style scoped>\n",
       "    .dataframe tbody tr th:only-of-type {\n",
       "        vertical-align: middle;\n",
       "    }\n",
       "\n",
       "    .dataframe tbody tr th {\n",
       "        vertical-align: top;\n",
       "    }\n",
       "\n",
       "    .dataframe thead th {\n",
       "        text-align: right;\n",
       "    }\n",
       "</style>\n",
       "<table border=\"1\" class=\"dataframe\">\n",
       "  <thead>\n",
       "    <tr style=\"text-align: right;\">\n",
       "      <th></th>\n",
       "      <th>claim_id</th>\n",
       "      <th>customer_id</th>\n",
       "      <th>incident_cause</th>\n",
       "      <th>claim_date</th>\n",
       "      <th>claim_area</th>\n",
       "      <th>police_report</th>\n",
       "      <th>claim_type</th>\n",
       "      <th>claim_amount</th>\n",
       "      <th>total_policy_claims</th>\n",
       "      <th>fraudulent</th>\n",
       "    </tr>\n",
       "  </thead>\n",
       "  <tbody>\n",
       "    <tr>\n",
       "      <th>0</th>\n",
       "      <td>54004764</td>\n",
       "      <td>21868593</td>\n",
       "      <td>Driver error</td>\n",
       "      <td>11/27/2017</td>\n",
       "      <td>Auto</td>\n",
       "      <td>No</td>\n",
       "      <td>Material only</td>\n",
       "      <td>$2980</td>\n",
       "      <td>1.0</td>\n",
       "      <td>No</td>\n",
       "    </tr>\n",
       "    <tr>\n",
       "      <th>1</th>\n",
       "      <td>33985796</td>\n",
       "      <td>75740424</td>\n",
       "      <td>Crime</td>\n",
       "      <td>10/03/2018</td>\n",
       "      <td>Home</td>\n",
       "      <td>Unknown</td>\n",
       "      <td>Material only</td>\n",
       "      <td>$2980</td>\n",
       "      <td>3.0</td>\n",
       "      <td>No</td>\n",
       "    </tr>\n",
       "    <tr>\n",
       "      <th>2</th>\n",
       "      <td>53522022</td>\n",
       "      <td>30308357</td>\n",
       "      <td>Other driver error</td>\n",
       "      <td>02/02/2018</td>\n",
       "      <td>Auto</td>\n",
       "      <td>No</td>\n",
       "      <td>Material only</td>\n",
       "      <td>$3369.5</td>\n",
       "      <td>1.0</td>\n",
       "      <td>Yes</td>\n",
       "    </tr>\n",
       "    <tr>\n",
       "      <th>3</th>\n",
       "      <td>13015401</td>\n",
       "      <td>47830476</td>\n",
       "      <td>Natural causes</td>\n",
       "      <td>06/17/2018</td>\n",
       "      <td>Auto</td>\n",
       "      <td>No</td>\n",
       "      <td>Material only</td>\n",
       "      <td>$1680</td>\n",
       "      <td>1.0</td>\n",
       "      <td>No</td>\n",
       "    </tr>\n",
       "    <tr>\n",
       "      <th>4</th>\n",
       "      <td>22890252</td>\n",
       "      <td>19269962</td>\n",
       "      <td>Crime</td>\n",
       "      <td>01/13/2018</td>\n",
       "      <td>Auto</td>\n",
       "      <td>No</td>\n",
       "      <td>Material only</td>\n",
       "      <td>$2680</td>\n",
       "      <td>1.0</td>\n",
       "      <td>No</td>\n",
       "    </tr>\n",
       "  </tbody>\n",
       "</table>\n",
       "</div>"
      ],
      "text/plain": [
       "   claim_id  customer_id      incident_cause  claim_date claim_area  \\\n",
       "0  54004764     21868593        Driver error  11/27/2017       Auto   \n",
       "1  33985796     75740424               Crime  10/03/2018       Home   \n",
       "2  53522022     30308357  Other driver error  02/02/2018       Auto   \n",
       "3  13015401     47830476      Natural causes  06/17/2018       Auto   \n",
       "4  22890252     19269962               Crime  01/13/2018       Auto   \n",
       "\n",
       "  police_report     claim_type claim_amount  total_policy_claims fraudulent  \n",
       "0            No  Material only        $2980                  1.0         No  \n",
       "1       Unknown  Material only        $2980                  3.0         No  \n",
       "2            No  Material only      $3369.5                  1.0        Yes  \n",
       "3            No  Material only        $1680                  1.0         No  \n",
       "4            No  Material only        $2680                  1.0         No  "
      ]
     },
     "execution_count": 9,
     "metadata": {},
     "output_type": "execute_result"
    }
   ],
   "source": [
    "claims.head(5)"
   ]
  },
  {
   "cell_type": "code",
   "execution_count": 10,
   "id": "605c6007",
   "metadata": {},
   "outputs": [
    {
     "data": {
      "text/html": [
       "<div>\n",
       "<style scoped>\n",
       "    .dataframe tbody tr th:only-of-type {\n",
       "        vertical-align: middle;\n",
       "    }\n",
       "\n",
       "    .dataframe tbody tr th {\n",
       "        vertical-align: top;\n",
       "    }\n",
       "\n",
       "    .dataframe thead th {\n",
       "        text-align: right;\n",
       "    }\n",
       "</style>\n",
       "<table border=\"1\" class=\"dataframe\">\n",
       "  <thead>\n",
       "    <tr style=\"text-align: right;\">\n",
       "      <th></th>\n",
       "      <th>CUST_ID</th>\n",
       "      <th>gender</th>\n",
       "      <th>DateOfBirth</th>\n",
       "      <th>State</th>\n",
       "      <th>Contact</th>\n",
       "      <th>Segment</th>\n",
       "    </tr>\n",
       "  </thead>\n",
       "  <tbody>\n",
       "    <tr>\n",
       "      <th>0</th>\n",
       "      <td>21868593</td>\n",
       "      <td>Female</td>\n",
       "      <td>12-Jan-79</td>\n",
       "      <td>VT</td>\n",
       "      <td>789-916-8172</td>\n",
       "      <td>Platinum</td>\n",
       "    </tr>\n",
       "    <tr>\n",
       "      <th>1</th>\n",
       "      <td>75740424</td>\n",
       "      <td>Female</td>\n",
       "      <td>13-Jan-70</td>\n",
       "      <td>ME</td>\n",
       "      <td>265-543-1264</td>\n",
       "      <td>Silver</td>\n",
       "    </tr>\n",
       "    <tr>\n",
       "      <th>2</th>\n",
       "      <td>30308357</td>\n",
       "      <td>Female</td>\n",
       "      <td>11-Mar-84</td>\n",
       "      <td>TN</td>\n",
       "      <td>798-631-4758</td>\n",
       "      <td>Silver</td>\n",
       "    </tr>\n",
       "    <tr>\n",
       "      <th>3</th>\n",
       "      <td>47830476</td>\n",
       "      <td>Female</td>\n",
       "      <td>01-May-86</td>\n",
       "      <td>MA</td>\n",
       "      <td>413-187-7945</td>\n",
       "      <td>Silver</td>\n",
       "    </tr>\n",
       "    <tr>\n",
       "      <th>4</th>\n",
       "      <td>19269962</td>\n",
       "      <td>Male</td>\n",
       "      <td>13-May-77</td>\n",
       "      <td>NV</td>\n",
       "      <td>956-871-8691</td>\n",
       "      <td>Gold</td>\n",
       "    </tr>\n",
       "  </tbody>\n",
       "</table>\n",
       "</div>"
      ],
      "text/plain": [
       "    CUST_ID  gender DateOfBirth State       Contact   Segment\n",
       "0  21868593  Female   12-Jan-79    VT  789-916-8172  Platinum\n",
       "1  75740424  Female   13-Jan-70    ME  265-543-1264    Silver\n",
       "2  30308357  Female   11-Mar-84    TN  798-631-4758    Silver\n",
       "3  47830476  Female   01-May-86    MA  413-187-7945    Silver\n",
       "4  19269962    Male   13-May-77    NV  956-871-8691      Gold"
      ]
     },
     "execution_count": 10,
     "metadata": {},
     "output_type": "execute_result"
    }
   ],
   "source": [
    "cust.head(5)"
   ]
  },
  {
   "cell_type": "code",
   "execution_count": 12,
   "id": "81cf9e27",
   "metadata": {},
   "outputs": [
    {
     "name": "stdout",
     "output_type": "stream",
     "text": [
      "<class 'pandas.core.frame.DataFrame'>\n",
      "Int64Index: 1085 entries, 0 to 1084\n",
      "Data columns (total 16 columns):\n",
      " #   Column               Non-Null Count  Dtype  \n",
      "---  ------               --------------  -----  \n",
      " 0   claim_id             1085 non-null   int64  \n",
      " 1   customer_id          1085 non-null   int64  \n",
      " 2   incident_cause       1085 non-null   object \n",
      " 3   claim_date           1085 non-null   object \n",
      " 4   claim_area           1085 non-null   object \n",
      " 5   police_report        1085 non-null   object \n",
      " 6   claim_type           1085 non-null   object \n",
      " 7   claim_amount         1020 non-null   object \n",
      " 8   total_policy_claims  1075 non-null   float64\n",
      " 9   fraudulent           1085 non-null   object \n",
      " 10  CUST_ID              1085 non-null   int64  \n",
      " 11  gender               1085 non-null   object \n",
      " 12  DateOfBirth          1085 non-null   object \n",
      " 13  State                1085 non-null   object \n",
      " 14  Contact              1085 non-null   object \n",
      " 15  Segment              1085 non-null   object \n",
      "dtypes: float64(1), int64(3), object(12)\n",
      "memory usage: 144.1+ KB\n"
     ]
    }
   ],
   "source": [
    "Cust_claims= claims.merge(cust, left_on=['customer_id'], right_on=['CUST_ID'], how='inner')\n",
    "Cust_claims.info()"
   ]
  },
  {
   "cell_type": "code",
   "execution_count": 13,
   "id": "c1a0e8cc",
   "metadata": {},
   "outputs": [],
   "source": [
    "#Question-2"
   ]
  },
  {
   "cell_type": "code",
   "execution_count": 14,
   "id": "8e58e16c",
   "metadata": {},
   "outputs": [
    {
     "data": {
      "text/html": [
       "<div>\n",
       "<style scoped>\n",
       "    .dataframe tbody tr th:only-of-type {\n",
       "        vertical-align: middle;\n",
       "    }\n",
       "\n",
       "    .dataframe tbody tr th {\n",
       "        vertical-align: top;\n",
       "    }\n",
       "\n",
       "    .dataframe thead th {\n",
       "        text-align: right;\n",
       "    }\n",
       "</style>\n",
       "<table border=\"1\" class=\"dataframe\">\n",
       "  <thead>\n",
       "    <tr style=\"text-align: right;\">\n",
       "      <th></th>\n",
       "      <th>claim_id</th>\n",
       "      <th>customer_id</th>\n",
       "      <th>incident_cause</th>\n",
       "      <th>claim_date</th>\n",
       "      <th>claim_area</th>\n",
       "      <th>police_report</th>\n",
       "      <th>claim_type</th>\n",
       "      <th>claim_amount</th>\n",
       "      <th>total_policy_claims</th>\n",
       "      <th>fraudulent</th>\n",
       "      <th>CUST_ID</th>\n",
       "      <th>gender</th>\n",
       "      <th>DateOfBirth</th>\n",
       "      <th>State</th>\n",
       "      <th>Contact</th>\n",
       "      <th>Segment</th>\n",
       "    </tr>\n",
       "  </thead>\n",
       "  <tbody>\n",
       "    <tr>\n",
       "      <th>0</th>\n",
       "      <td>54004764</td>\n",
       "      <td>21868593</td>\n",
       "      <td>Driver error</td>\n",
       "      <td>11/27/2017</td>\n",
       "      <td>Auto</td>\n",
       "      <td>No</td>\n",
       "      <td>Material only</td>\n",
       "      <td>$2980</td>\n",
       "      <td>1.0</td>\n",
       "      <td>No</td>\n",
       "      <td>21868593</td>\n",
       "      <td>Female</td>\n",
       "      <td>12-Jan-79</td>\n",
       "      <td>VT</td>\n",
       "      <td>789-916-8172</td>\n",
       "      <td>Platinum</td>\n",
       "    </tr>\n",
       "    <tr>\n",
       "      <th>1</th>\n",
       "      <td>33985796</td>\n",
       "      <td>75740424</td>\n",
       "      <td>Crime</td>\n",
       "      <td>10/03/2018</td>\n",
       "      <td>Home</td>\n",
       "      <td>Unknown</td>\n",
       "      <td>Material only</td>\n",
       "      <td>$2980</td>\n",
       "      <td>3.0</td>\n",
       "      <td>No</td>\n",
       "      <td>75740424</td>\n",
       "      <td>Female</td>\n",
       "      <td>13-Jan-70</td>\n",
       "      <td>ME</td>\n",
       "      <td>265-543-1264</td>\n",
       "      <td>Silver</td>\n",
       "    </tr>\n",
       "  </tbody>\n",
       "</table>\n",
       "</div>"
      ],
      "text/plain": [
       "   claim_id  customer_id incident_cause  claim_date claim_area police_report  \\\n",
       "0  54004764     21868593   Driver error  11/27/2017       Auto            No   \n",
       "1  33985796     75740424          Crime  10/03/2018       Home       Unknown   \n",
       "\n",
       "      claim_type claim_amount  total_policy_claims fraudulent   CUST_ID  \\\n",
       "0  Material only        $2980                  1.0         No  21868593   \n",
       "1  Material only        $2980                  3.0         No  75740424   \n",
       "\n",
       "   gender DateOfBirth State       Contact   Segment  \n",
       "0  Female   12-Jan-79    VT  789-916-8172  Platinum  \n",
       "1  Female   13-Jan-70    ME  265-543-1264    Silver  "
      ]
     },
     "execution_count": 14,
     "metadata": {},
     "output_type": "execute_result"
    }
   ],
   "source": [
    "Cust_claims.head(2)"
   ]
  },
  {
   "cell_type": "code",
   "execution_count": 15,
   "id": "e2149b12",
   "metadata": {},
   "outputs": [],
   "source": [
    "numeric_columns = Cust_claims.select_dtypes(include = ['float64', 'int64'])\n",
    "object_columns = Cust_claims.select_dtypes(include = ['object'])"
   ]
  },
  {
   "cell_type": "code",
   "execution_count": 16,
   "id": "b138602d",
   "metadata": {},
   "outputs": [],
   "source": [
    "def continuous_var_summary( x ):\n",
    "    \n",
    "    # freq and missings\n",
    "    n_total = x.shape[0]\n",
    "    n_miss = x.isna().sum()\n",
    "    perc_miss = n_miss * 100 / n_total\n",
    "    \n",
    "    # outliers - iqr\n",
    "    q1 = x.quantile(0.25)\n",
    "    q3 = x.quantile(0.75)\n",
    "    iqr = q3 - q1\n",
    "    lc_iqr = q1 - 1.5 * iqr\n",
    "    uc_iqr = q3 + 1.5 * iqr\n",
    "    \n",
    "    return pd.Series( [ x.dtype, x.nunique(), n_total, x.count(), n_miss, perc_miss,\n",
    "                       x.sum(), x.mean(), x.std(), x.var(), \n",
    "                       lc_iqr, uc_iqr, \n",
    "                       x.min(), x.quantile(0.01), x.quantile(0.05), x.quantile(0.10), \n",
    "                       x.quantile(0.25), x.quantile(0.5), x.quantile(0.75), \n",
    "                       x.quantile(0.90), x.quantile(0.95), x.quantile(0.99), x.max() ], \n",
    "                     \n",
    "                    index = ['dtype', 'cardinality', 'n_tot', 'n', 'nmiss', 'perc_miss',\n",
    "                             'sum', 'mean', 'std', 'var',\n",
    "                        'lc_iqr', 'uc_iqr',\n",
    "                        'min', 'p1', 'p5', 'p10', 'p25', 'p50', 'p75', 'p90', 'p95', 'p99', 'max']) \n"
   ]
  },
  {
   "cell_type": "code",
   "execution_count": 17,
   "id": "3ff8a7e0",
   "metadata": {},
   "outputs": [],
   "source": [
    "def categorical_var_summary( x ):\n",
    "    \n",
    "    Mode = x.value_counts().sort_values(ascending = False)[0:1].reset_index()\n",
    "    return pd.Series([x.count(), x.isnull().sum(), Mode.iloc[0, 0], Mode.iloc[0, 1], \n",
    "                          round(Mode.iloc[0, 1] * 100 / x.count(), 2)], \n",
    "                     \n",
    "                  index = ['n', 'nmiss', 'MODE', 'FREQ', 'PERCENT'])"
   ]
  },
  {
   "cell_type": "code",
   "execution_count": 18,
   "id": "012d4b54",
   "metadata": {},
   "outputs": [
    {
     "data": {
      "text/html": [
       "<div>\n",
       "<style scoped>\n",
       "    .dataframe tbody tr th:only-of-type {\n",
       "        vertical-align: middle;\n",
       "    }\n",
       "\n",
       "    .dataframe tbody tr th {\n",
       "        vertical-align: top;\n",
       "    }\n",
       "\n",
       "    .dataframe thead th {\n",
       "        text-align: right;\n",
       "    }\n",
       "</style>\n",
       "<table border=\"1\" class=\"dataframe\">\n",
       "  <thead>\n",
       "    <tr style=\"text-align: right;\">\n",
       "      <th></th>\n",
       "      <th>claim_id</th>\n",
       "      <th>customer_id</th>\n",
       "      <th>total_policy_claims</th>\n",
       "      <th>CUST_ID</th>\n",
       "    </tr>\n",
       "  </thead>\n",
       "  <tbody>\n",
       "    <tr>\n",
       "      <th>dtype</th>\n",
       "      <td>int64</td>\n",
       "      <td>int64</td>\n",
       "      <td>float64</td>\n",
       "      <td>int64</td>\n",
       "    </tr>\n",
       "    <tr>\n",
       "      <th>cardinality</th>\n",
       "      <td>1085</td>\n",
       "      <td>1078</td>\n",
       "      <td>8</td>\n",
       "      <td>1078</td>\n",
       "    </tr>\n",
       "    <tr>\n",
       "      <th>n_tot</th>\n",
       "      <td>1085</td>\n",
       "      <td>1085</td>\n",
       "      <td>1085</td>\n",
       "      <td>1085</td>\n",
       "    </tr>\n",
       "    <tr>\n",
       "      <th>n</th>\n",
       "      <td>1085</td>\n",
       "      <td>1085</td>\n",
       "      <td>1075</td>\n",
       "      <td>1085</td>\n",
       "    </tr>\n",
       "    <tr>\n",
       "      <th>nmiss</th>\n",
       "      <td>0</td>\n",
       "      <td>0</td>\n",
       "      <td>10</td>\n",
       "      <td>0</td>\n",
       "    </tr>\n",
       "    <tr>\n",
       "      <th>perc_miss</th>\n",
       "      <td>0.0</td>\n",
       "      <td>0.0</td>\n",
       "      <td>0.921659</td>\n",
       "      <td>0.0</td>\n",
       "    </tr>\n",
       "    <tr>\n",
       "      <th>sum</th>\n",
       "      <td>53073348315</td>\n",
       "      <td>55083176211</td>\n",
       "      <td>1706.0</td>\n",
       "      <td>55083176211</td>\n",
       "    </tr>\n",
       "    <tr>\n",
       "      <th>mean</th>\n",
       "      <td>48915528.400922</td>\n",
       "      <td>50767904.341935</td>\n",
       "      <td>1.586977</td>\n",
       "      <td>50767904.341935</td>\n",
       "    </tr>\n",
       "    <tr>\n",
       "      <th>std</th>\n",
       "      <td>29128181.617819</td>\n",
       "      <td>28496245.372373</td>\n",
       "      <td>1.146859</td>\n",
       "      <td>28496245.372373</td>\n",
       "    </tr>\n",
       "    <tr>\n",
       "      <th>var</th>\n",
       "      <td>848450964360648.625</td>\n",
       "      <td>812036000322492.625</td>\n",
       "      <td>1.315286</td>\n",
       "      <td>812036000322492.625</td>\n",
       "    </tr>\n",
       "    <tr>\n",
       "      <th>lc_iqr</th>\n",
       "      <td>-50950840.5</td>\n",
       "      <td>-48014387.5</td>\n",
       "      <td>-0.5</td>\n",
       "      <td>-48014387.5</td>\n",
       "    </tr>\n",
       "    <tr>\n",
       "      <th>uc_iqr</th>\n",
       "      <td>149040899.5</td>\n",
       "      <td>150558968.5</td>\n",
       "      <td>3.5</td>\n",
       "      <td>150558968.5</td>\n",
       "    </tr>\n",
       "    <tr>\n",
       "      <th>min</th>\n",
       "      <td>26832</td>\n",
       "      <td>154557</td>\n",
       "      <td>1.0</td>\n",
       "      <td>154557</td>\n",
       "    </tr>\n",
       "    <tr>\n",
       "      <th>p1</th>\n",
       "      <td>1327778.84</td>\n",
       "      <td>1160488.28</td>\n",
       "      <td>1.0</td>\n",
       "      <td>1160488.28</td>\n",
       "    </tr>\n",
       "    <tr>\n",
       "      <th>p5</th>\n",
       "      <td>3929507.4</td>\n",
       "      <td>6108729.2</td>\n",
       "      <td>1.0</td>\n",
       "      <td>6108729.2</td>\n",
       "    </tr>\n",
       "    <tr>\n",
       "      <th>p10</th>\n",
       "      <td>7907545.8</td>\n",
       "      <td>11265394.0</td>\n",
       "      <td>1.0</td>\n",
       "      <td>11265394.0</td>\n",
       "    </tr>\n",
       "    <tr>\n",
       "      <th>p25</th>\n",
       "      <td>24046062.0</td>\n",
       "      <td>26450621.0</td>\n",
       "      <td>1.0</td>\n",
       "      <td>26450621.0</td>\n",
       "    </tr>\n",
       "    <tr>\n",
       "      <th>p50</th>\n",
       "      <td>48559754.0</td>\n",
       "      <td>49759488.0</td>\n",
       "      <td>1.0</td>\n",
       "      <td>49759488.0</td>\n",
       "    </tr>\n",
       "    <tr>\n",
       "      <th>p75</th>\n",
       "      <td>74043997.0</td>\n",
       "      <td>76093960.0</td>\n",
       "      <td>2.0</td>\n",
       "      <td>76093960.0</td>\n",
       "    </tr>\n",
       "    <tr>\n",
       "      <th>p90</th>\n",
       "      <td>89445574.8</td>\n",
       "      <td>89510506.2</td>\n",
       "      <td>3.0</td>\n",
       "      <td>89510506.2</td>\n",
       "    </tr>\n",
       "    <tr>\n",
       "      <th>p95</th>\n",
       "      <td>94660566.4</td>\n",
       "      <td>94641249.4</td>\n",
       "      <td>4.0</td>\n",
       "      <td>94641249.4</td>\n",
       "    </tr>\n",
       "    <tr>\n",
       "      <th>p99</th>\n",
       "      <td>98890653.44</td>\n",
       "      <td>98237918.2</td>\n",
       "      <td>6.0</td>\n",
       "      <td>98237918.2</td>\n",
       "    </tr>\n",
       "    <tr>\n",
       "      <th>max</th>\n",
       "      <td>99775483</td>\n",
       "      <td>99961993</td>\n",
       "      <td>8.0</td>\n",
       "      <td>99961993</td>\n",
       "    </tr>\n",
       "  </tbody>\n",
       "</table>\n",
       "</div>"
      ],
      "text/plain": [
       "                        claim_id          customer_id total_policy_claims  \\\n",
       "dtype                      int64                int64             float64   \n",
       "cardinality                 1085                 1078                   8   \n",
       "n_tot                       1085                 1085                1085   \n",
       "n                           1085                 1085                1075   \n",
       "nmiss                          0                    0                  10   \n",
       "perc_miss                    0.0                  0.0            0.921659   \n",
       "sum                  53073348315          55083176211              1706.0   \n",
       "mean             48915528.400922      50767904.341935            1.586977   \n",
       "std              29128181.617819      28496245.372373            1.146859   \n",
       "var          848450964360648.625  812036000322492.625            1.315286   \n",
       "lc_iqr               -50950840.5          -48014387.5                -0.5   \n",
       "uc_iqr               149040899.5          150558968.5                 3.5   \n",
       "min                        26832               154557                 1.0   \n",
       "p1                    1327778.84           1160488.28                 1.0   \n",
       "p5                     3929507.4            6108729.2                 1.0   \n",
       "p10                    7907545.8           11265394.0                 1.0   \n",
       "p25                   24046062.0           26450621.0                 1.0   \n",
       "p50                   48559754.0           49759488.0                 1.0   \n",
       "p75                   74043997.0           76093960.0                 2.0   \n",
       "p90                   89445574.8           89510506.2                 3.0   \n",
       "p95                   94660566.4           94641249.4                 4.0   \n",
       "p99                  98890653.44           98237918.2                 6.0   \n",
       "max                     99775483             99961993                 8.0   \n",
       "\n",
       "                         CUST_ID  \n",
       "dtype                      int64  \n",
       "cardinality                 1078  \n",
       "n_tot                       1085  \n",
       "n                           1085  \n",
       "nmiss                          0  \n",
       "perc_miss                    0.0  \n",
       "sum                  55083176211  \n",
       "mean             50767904.341935  \n",
       "std              28496245.372373  \n",
       "var          812036000322492.625  \n",
       "lc_iqr               -48014387.5  \n",
       "uc_iqr               150558968.5  \n",
       "min                       154557  \n",
       "p1                    1160488.28  \n",
       "p5                     6108729.2  \n",
       "p10                   11265394.0  \n",
       "p25                   26450621.0  \n",
       "p50                   49759488.0  \n",
       "p75                   76093960.0  \n",
       "p90                   89510506.2  \n",
       "p95                   94641249.4  \n",
       "p99                   98237918.2  \n",
       "max                     99961993  "
      ]
     },
     "execution_count": 18,
     "metadata": {},
     "output_type": "execute_result"
    }
   ],
   "source": [
    "numeric_audit=numeric_columns.apply( lambda x: continuous_var_summary(x))\n",
    "numeric_audit"
   ]
  },
  {
   "cell_type": "code",
   "execution_count": 19,
   "id": "2116680a",
   "metadata": {},
   "outputs": [],
   "source": [
    "# there are id variables and total_policy_claims only which can be processed as per the given data, it requires data type conversions to proper format"
   ]
  },
  {
   "cell_type": "code",
   "execution_count": 20,
   "id": "976698df",
   "metadata": {},
   "outputs": [
    {
     "data": {
      "text/html": [
       "<div>\n",
       "<style scoped>\n",
       "    .dataframe tbody tr th:only-of-type {\n",
       "        vertical-align: middle;\n",
       "    }\n",
       "\n",
       "    .dataframe tbody tr th {\n",
       "        vertical-align: top;\n",
       "    }\n",
       "\n",
       "    .dataframe thead th {\n",
       "        text-align: right;\n",
       "    }\n",
       "</style>\n",
       "<table border=\"1\" class=\"dataframe\">\n",
       "  <thead>\n",
       "    <tr style=\"text-align: right;\">\n",
       "      <th></th>\n",
       "      <th>incident_cause</th>\n",
       "      <th>claim_date</th>\n",
       "      <th>claim_area</th>\n",
       "      <th>police_report</th>\n",
       "      <th>claim_type</th>\n",
       "      <th>claim_amount</th>\n",
       "      <th>fraudulent</th>\n",
       "      <th>gender</th>\n",
       "      <th>DateOfBirth</th>\n",
       "      <th>State</th>\n",
       "      <th>Contact</th>\n",
       "      <th>Segment</th>\n",
       "    </tr>\n",
       "  </thead>\n",
       "  <tbody>\n",
       "    <tr>\n",
       "      <th>n</th>\n",
       "      <td>1085</td>\n",
       "      <td>1085</td>\n",
       "      <td>1085</td>\n",
       "      <td>1085</td>\n",
       "      <td>1085</td>\n",
       "      <td>1020</td>\n",
       "      <td>1085</td>\n",
       "      <td>1085</td>\n",
       "      <td>1085</td>\n",
       "      <td>1085</td>\n",
       "      <td>1085</td>\n",
       "      <td>1085</td>\n",
       "    </tr>\n",
       "    <tr>\n",
       "      <th>nmiss</th>\n",
       "      <td>0</td>\n",
       "      <td>0</td>\n",
       "      <td>0</td>\n",
       "      <td>0</td>\n",
       "      <td>0</td>\n",
       "      <td>65</td>\n",
       "      <td>0</td>\n",
       "      <td>0</td>\n",
       "      <td>0</td>\n",
       "      <td>0</td>\n",
       "      <td>0</td>\n",
       "      <td>0</td>\n",
       "    </tr>\n",
       "    <tr>\n",
       "      <th>MODE</th>\n",
       "      <td>Other causes</td>\n",
       "      <td>04/04/2018</td>\n",
       "      <td>Auto</td>\n",
       "      <td>No</td>\n",
       "      <td>Material only</td>\n",
       "      <td>$2320</td>\n",
       "      <td>No</td>\n",
       "      <td>Male</td>\n",
       "      <td>18-Oct-72</td>\n",
       "      <td>NY</td>\n",
       "      <td>743-569-4783</td>\n",
       "      <td>Gold</td>\n",
       "    </tr>\n",
       "    <tr>\n",
       "      <th>FREQ</th>\n",
       "      <td>285</td>\n",
       "      <td>18</td>\n",
       "      <td>970</td>\n",
       "      <td>621</td>\n",
       "      <td>653</td>\n",
       "      <td>7</td>\n",
       "      <td>838</td>\n",
       "      <td>556</td>\n",
       "      <td>2</td>\n",
       "      <td>31</td>\n",
       "      <td>2</td>\n",
       "      <td>375</td>\n",
       "    </tr>\n",
       "    <tr>\n",
       "      <th>PERCENT</th>\n",
       "      <td>26.27</td>\n",
       "      <td>1.66</td>\n",
       "      <td>89.4</td>\n",
       "      <td>57.24</td>\n",
       "      <td>60.18</td>\n",
       "      <td>0.69</td>\n",
       "      <td>77.24</td>\n",
       "      <td>51.24</td>\n",
       "      <td>0.18</td>\n",
       "      <td>2.86</td>\n",
       "      <td>0.18</td>\n",
       "      <td>34.56</td>\n",
       "    </tr>\n",
       "  </tbody>\n",
       "</table>\n",
       "</div>"
      ],
      "text/plain": [
       "        incident_cause  claim_date claim_area police_report     claim_type  \\\n",
       "n                 1085        1085       1085          1085           1085   \n",
       "nmiss                0           0          0             0              0   \n",
       "MODE      Other causes  04/04/2018       Auto            No  Material only   \n",
       "FREQ               285          18        970           621            653   \n",
       "PERCENT          26.27        1.66       89.4         57.24          60.18   \n",
       "\n",
       "        claim_amount fraudulent gender DateOfBirth State       Contact Segment  \n",
       "n               1020       1085   1085        1085  1085          1085    1085  \n",
       "nmiss             65          0      0           0     0             0       0  \n",
       "MODE           $2320         No   Male   18-Oct-72    NY  743-569-4783    Gold  \n",
       "FREQ               7        838    556           2    31             2     375  \n",
       "PERCENT         0.69      77.24  51.24        0.18  2.86          0.18   34.56  "
      ]
     },
     "execution_count": 20,
     "metadata": {},
     "output_type": "execute_result"
    }
   ],
   "source": [
    "categorical_audit= object_columns.apply( lambda x: categorical_var_summary(x))\n",
    "categorical_audit"
   ]
  },
  {
   "cell_type": "code",
   "execution_count": 21,
   "id": "3f594203",
   "metadata": {},
   "outputs": [],
   "source": [
    "# the amount variables, date variables shall be changed to proper formats, contact variable has no business significance for the analysis.\n",
    "\n",
    "# ###### Data type conversions for variables which are not of proper type\n",
    "\n",
    "# claim_date, claim_amount($, datatype), DateOfBirth"
   ]
  },
  {
   "cell_type": "code",
   "execution_count": 22,
   "id": "069d27d2",
   "metadata": {},
   "outputs": [],
   "source": [
    "Cust_claims[\"DateOfBirth\"] = pd.to_datetime(Cust_claims.DateOfBirth, format = \"%d-%b-%y\")\n",
    "Cust_claims.loc[(Cust_claims.DateOfBirth.dt.year > 2020),\"DateOfBirth\"]=Cust_claims[Cust_claims.DateOfBirth.dt.year > 2020][\"DateOfBirth\"].apply(lambda x: x - pd.DateOffset(years=100))"
   ]
  },
  {
   "cell_type": "code",
   "execution_count": 26,
   "id": "94e67b4e",
   "metadata": {},
   "outputs": [],
   "source": [
    "Cust_claims[\"claim_date\"] = pd.to_datetime(Cust_claims.claim_date, format = \"%m/%d/%Y\")"
   ]
  },
  {
   "cell_type": "code",
   "execution_count": 24,
   "id": "585d693e",
   "metadata": {},
   "outputs": [],
   "source": [
    "#Question-3"
   ]
  },
  {
   "cell_type": "code",
   "execution_count": 27,
   "id": "0f89f456",
   "metadata": {},
   "outputs": [
    {
     "name": "stderr",
     "output_type": "stream",
     "text": [
      "C:\\Users\\USER\\AppData\\Local\\Temp\\ipykernel_11124\\1006674452.py:2: FutureWarning: The default value of regex will change from True to False in a future version. In addition, single character regular expressions will *not* be treated as literal strings when regex=True.\n",
      "  Cust_claims['claim_amount'] = Cust_claims['claim_amount'].str.replace('$','')\n"
     ]
    }
   ],
   "source": [
    "Cust_claims[\"claim_amount\"]= Cust_claims['claim_amount'].astype(str)\n",
    "Cust_claims['claim_amount'] = Cust_claims['claim_amount'].str.replace('$','')\n",
    "Cust_claims['claim_amount']= np.where(Cust_claims.claim_amount== \"nan\",\"\",Cust_claims.claim_amount )"
   ]
  },
  {
   "cell_type": "code",
   "execution_count": 28,
   "id": "d8775a13",
   "metadata": {},
   "outputs": [
    {
     "data": {
      "text/plain": [
       "dtype('float64')"
      ]
     },
     "execution_count": 28,
     "metadata": {},
     "output_type": "execute_result"
    }
   ],
   "source": [
    "Cust_claims['claim_amount'] = pd.to_numeric(Cust_claims['claim_amount'])\n",
    "np.dtype(Cust_claims.claim_amount)"
   ]
  },
  {
   "cell_type": "code",
   "execution_count": 29,
   "id": "b2e4e42b",
   "metadata": {},
   "outputs": [],
   "source": [
    "#Question-4"
   ]
  },
  {
   "cell_type": "code",
   "execution_count": 30,
   "id": "8e547683",
   "metadata": {},
   "outputs": [
    {
     "data": {
      "text/html": [
       "<div>\n",
       "<style scoped>\n",
       "    .dataframe tbody tr th:only-of-type {\n",
       "        vertical-align: middle;\n",
       "    }\n",
       "\n",
       "    .dataframe tbody tr th {\n",
       "        vertical-align: top;\n",
       "    }\n",
       "\n",
       "    .dataframe thead th {\n",
       "        text-align: right;\n",
       "    }\n",
       "</style>\n",
       "<table border=\"1\" class=\"dataframe\">\n",
       "  <thead>\n",
       "    <tr style=\"text-align: right;\">\n",
       "      <th></th>\n",
       "      <th>claim_id</th>\n",
       "      <th>customer_id</th>\n",
       "      <th>incident_cause</th>\n",
       "      <th>claim_date</th>\n",
       "      <th>claim_area</th>\n",
       "      <th>police_report</th>\n",
       "      <th>claim_type</th>\n",
       "      <th>claim_amount</th>\n",
       "      <th>total_policy_claims</th>\n",
       "      <th>fraudulent</th>\n",
       "      <th>CUST_ID</th>\n",
       "      <th>gender</th>\n",
       "      <th>DateOfBirth</th>\n",
       "      <th>State</th>\n",
       "      <th>Contact</th>\n",
       "      <th>Segment</th>\n",
       "      <th>unreported_claims</th>\n",
       "    </tr>\n",
       "  </thead>\n",
       "  <tbody>\n",
       "    <tr>\n",
       "      <th>0</th>\n",
       "      <td>54004764</td>\n",
       "      <td>21868593</td>\n",
       "      <td>Driver error</td>\n",
       "      <td>2017-11-27</td>\n",
       "      <td>Auto</td>\n",
       "      <td>No</td>\n",
       "      <td>Material only</td>\n",
       "      <td>2980.0</td>\n",
       "      <td>1.0</td>\n",
       "      <td>No</td>\n",
       "      <td>21868593</td>\n",
       "      <td>Female</td>\n",
       "      <td>1979-01-12</td>\n",
       "      <td>VT</td>\n",
       "      <td>789-916-8172</td>\n",
       "      <td>Platinum</td>\n",
       "      <td>0</td>\n",
       "    </tr>\n",
       "    <tr>\n",
       "      <th>1</th>\n",
       "      <td>33985796</td>\n",
       "      <td>75740424</td>\n",
       "      <td>Crime</td>\n",
       "      <td>2018-10-03</td>\n",
       "      <td>Home</td>\n",
       "      <td>Unknown</td>\n",
       "      <td>Material only</td>\n",
       "      <td>2980.0</td>\n",
       "      <td>3.0</td>\n",
       "      <td>No</td>\n",
       "      <td>75740424</td>\n",
       "      <td>Female</td>\n",
       "      <td>1970-01-13</td>\n",
       "      <td>ME</td>\n",
       "      <td>265-543-1264</td>\n",
       "      <td>Silver</td>\n",
       "      <td>1</td>\n",
       "    </tr>\n",
       "    <tr>\n",
       "      <th>2</th>\n",
       "      <td>53522022</td>\n",
       "      <td>30308357</td>\n",
       "      <td>Other driver error</td>\n",
       "      <td>2018-02-02</td>\n",
       "      <td>Auto</td>\n",
       "      <td>No</td>\n",
       "      <td>Material only</td>\n",
       "      <td>3369.5</td>\n",
       "      <td>1.0</td>\n",
       "      <td>Yes</td>\n",
       "      <td>30308357</td>\n",
       "      <td>Female</td>\n",
       "      <td>1984-03-11</td>\n",
       "      <td>TN</td>\n",
       "      <td>798-631-4758</td>\n",
       "      <td>Silver</td>\n",
       "      <td>0</td>\n",
       "    </tr>\n",
       "    <tr>\n",
       "      <th>3</th>\n",
       "      <td>63017412</td>\n",
       "      <td>30308357</td>\n",
       "      <td>Driver error</td>\n",
       "      <td>2018-04-04</td>\n",
       "      <td>Auto</td>\n",
       "      <td>No</td>\n",
       "      <td>Material only</td>\n",
       "      <td>1950.0</td>\n",
       "      <td>6.0</td>\n",
       "      <td>No</td>\n",
       "      <td>30308357</td>\n",
       "      <td>Female</td>\n",
       "      <td>1984-03-11</td>\n",
       "      <td>TN</td>\n",
       "      <td>798-631-4758</td>\n",
       "      <td>Silver</td>\n",
       "      <td>0</td>\n",
       "    </tr>\n",
       "    <tr>\n",
       "      <th>4</th>\n",
       "      <td>13015401</td>\n",
       "      <td>47830476</td>\n",
       "      <td>Natural causes</td>\n",
       "      <td>2018-06-17</td>\n",
       "      <td>Auto</td>\n",
       "      <td>No</td>\n",
       "      <td>Material only</td>\n",
       "      <td>1680.0</td>\n",
       "      <td>1.0</td>\n",
       "      <td>No</td>\n",
       "      <td>47830476</td>\n",
       "      <td>Female</td>\n",
       "      <td>1986-05-01</td>\n",
       "      <td>MA</td>\n",
       "      <td>413-187-7945</td>\n",
       "      <td>Silver</td>\n",
       "      <td>0</td>\n",
       "    </tr>\n",
       "    <tr>\n",
       "      <th>5</th>\n",
       "      <td>91609100</td>\n",
       "      <td>47830476</td>\n",
       "      <td>Natural causes</td>\n",
       "      <td>2017-04-12</td>\n",
       "      <td>Auto</td>\n",
       "      <td>Unknown</td>\n",
       "      <td>Material only</td>\n",
       "      <td>1440.0</td>\n",
       "      <td>1.0</td>\n",
       "      <td>No</td>\n",
       "      <td>47830476</td>\n",
       "      <td>Female</td>\n",
       "      <td>1986-05-01</td>\n",
       "      <td>MA</td>\n",
       "      <td>413-187-7945</td>\n",
       "      <td>Silver</td>\n",
       "      <td>1</td>\n",
       "    </tr>\n",
       "    <tr>\n",
       "      <th>6</th>\n",
       "      <td>22890252</td>\n",
       "      <td>19269962</td>\n",
       "      <td>Crime</td>\n",
       "      <td>2018-01-13</td>\n",
       "      <td>Auto</td>\n",
       "      <td>No</td>\n",
       "      <td>Material only</td>\n",
       "      <td>2680.0</td>\n",
       "      <td>1.0</td>\n",
       "      <td>No</td>\n",
       "      <td>19269962</td>\n",
       "      <td>Male</td>\n",
       "      <td>1977-05-13</td>\n",
       "      <td>NV</td>\n",
       "      <td>956-871-8691</td>\n",
       "      <td>Gold</td>\n",
       "      <td>0</td>\n",
       "    </tr>\n",
       "    <tr>\n",
       "      <th>7</th>\n",
       "      <td>39219616</td>\n",
       "      <td>19269962</td>\n",
       "      <td>Other causes</td>\n",
       "      <td>2018-09-26</td>\n",
       "      <td>Auto</td>\n",
       "      <td>No</td>\n",
       "      <td>Material only</td>\n",
       "      <td>2240.0</td>\n",
       "      <td>2.0</td>\n",
       "      <td>No</td>\n",
       "      <td>19269962</td>\n",
       "      <td>Male</td>\n",
       "      <td>1977-05-13</td>\n",
       "      <td>NV</td>\n",
       "      <td>956-871-8691</td>\n",
       "      <td>Gold</td>\n",
       "      <td>0</td>\n",
       "    </tr>\n",
       "    <tr>\n",
       "      <th>8</th>\n",
       "      <td>24050443</td>\n",
       "      <td>21831191</td>\n",
       "      <td>Other driver error</td>\n",
       "      <td>2017-10-04</td>\n",
       "      <td>Auto</td>\n",
       "      <td>No</td>\n",
       "      <td>Injury only</td>\n",
       "      <td>38306.5</td>\n",
       "      <td>3.0</td>\n",
       "      <td>Yes</td>\n",
       "      <td>21831191</td>\n",
       "      <td>Male</td>\n",
       "      <td>1977-05-17</td>\n",
       "      <td>NH</td>\n",
       "      <td>419-712-8513</td>\n",
       "      <td>Gold</td>\n",
       "      <td>0</td>\n",
       "    </tr>\n",
       "    <tr>\n",
       "      <th>9</th>\n",
       "      <td>91475471</td>\n",
       "      <td>21831191</td>\n",
       "      <td>Driver error</td>\n",
       "      <td>2018-02-09</td>\n",
       "      <td>Auto</td>\n",
       "      <td>Unknown</td>\n",
       "      <td>Material and injury</td>\n",
       "      <td>36810.0</td>\n",
       "      <td>1.0</td>\n",
       "      <td>No</td>\n",
       "      <td>21831191</td>\n",
       "      <td>Male</td>\n",
       "      <td>1977-05-17</td>\n",
       "      <td>NH</td>\n",
       "      <td>419-712-8513</td>\n",
       "      <td>Gold</td>\n",
       "      <td>1</td>\n",
       "    </tr>\n",
       "  </tbody>\n",
       "</table>\n",
       "</div>"
      ],
      "text/plain": [
       "   claim_id  customer_id      incident_cause claim_date claim_area  \\\n",
       "0  54004764     21868593        Driver error 2017-11-27       Auto   \n",
       "1  33985796     75740424               Crime 2018-10-03       Home   \n",
       "2  53522022     30308357  Other driver error 2018-02-02       Auto   \n",
       "3  63017412     30308357        Driver error 2018-04-04       Auto   \n",
       "4  13015401     47830476      Natural causes 2018-06-17       Auto   \n",
       "5  91609100     47830476      Natural causes 2017-04-12       Auto   \n",
       "6  22890252     19269962               Crime 2018-01-13       Auto   \n",
       "7  39219616     19269962        Other causes 2018-09-26       Auto   \n",
       "8  24050443     21831191  Other driver error 2017-10-04       Auto   \n",
       "9  91475471     21831191        Driver error 2018-02-09       Auto   \n",
       "\n",
       "  police_report           claim_type  claim_amount  total_policy_claims  \\\n",
       "0            No        Material only        2980.0                  1.0   \n",
       "1       Unknown        Material only        2980.0                  3.0   \n",
       "2            No        Material only        3369.5                  1.0   \n",
       "3            No        Material only        1950.0                  6.0   \n",
       "4            No        Material only        1680.0                  1.0   \n",
       "5       Unknown        Material only        1440.0                  1.0   \n",
       "6            No        Material only        2680.0                  1.0   \n",
       "7            No        Material only        2240.0                  2.0   \n",
       "8            No          Injury only       38306.5                  3.0   \n",
       "9       Unknown  Material and injury       36810.0                  1.0   \n",
       "\n",
       "  fraudulent   CUST_ID  gender DateOfBirth State       Contact   Segment  \\\n",
       "0         No  21868593  Female  1979-01-12    VT  789-916-8172  Platinum   \n",
       "1         No  75740424  Female  1970-01-13    ME  265-543-1264    Silver   \n",
       "2        Yes  30308357  Female  1984-03-11    TN  798-631-4758    Silver   \n",
       "3         No  30308357  Female  1984-03-11    TN  798-631-4758    Silver   \n",
       "4         No  47830476  Female  1986-05-01    MA  413-187-7945    Silver   \n",
       "5         No  47830476  Female  1986-05-01    MA  413-187-7945    Silver   \n",
       "6         No  19269962    Male  1977-05-13    NV  956-871-8691      Gold   \n",
       "7         No  19269962    Male  1977-05-13    NV  956-871-8691      Gold   \n",
       "8        Yes  21831191    Male  1977-05-17    NH  419-712-8513      Gold   \n",
       "9         No  21831191    Male  1977-05-17    NH  419-712-8513      Gold   \n",
       "\n",
       "   unreported_claims  \n",
       "0                  0  \n",
       "1                  1  \n",
       "2                  0  \n",
       "3                  0  \n",
       "4                  0  \n",
       "5                  1  \n",
       "6                  0  \n",
       "7                  0  \n",
       "8                  0  \n",
       "9                  1  "
      ]
     },
     "execution_count": 30,
     "metadata": {},
     "output_type": "execute_result"
    }
   ],
   "source": [
    "Cust_claims['unreported_claims']= np.where(Cust_claims.police_report== 'Unknown',1,0)\n",
    "Cust_claims.head(10)"
   ]
  },
  {
   "cell_type": "code",
   "execution_count": 31,
   "id": "3018f503",
   "metadata": {},
   "outputs": [],
   "source": [
    "#Question-5"
   ]
  },
  {
   "cell_type": "code",
   "execution_count": 32,
   "id": "d1f32e56",
   "metadata": {},
   "outputs": [],
   "source": [
    "Cust_claims= Cust_claims.drop_duplicates(subset=\"customer_id\", keep= \"last\")"
   ]
  },
  {
   "cell_type": "code",
   "execution_count": 33,
   "id": "4726cdb2",
   "metadata": {},
   "outputs": [],
   "source": [
    "#Question-6"
   ]
  },
  {
   "cell_type": "code",
   "execution_count": 34,
   "id": "8c2ac245",
   "metadata": {},
   "outputs": [
    {
     "data": {
      "text/plain": [
       "claim_id                0\n",
       "customer_id             0\n",
       "incident_cause          0\n",
       "claim_date              0\n",
       "claim_area              0\n",
       "police_report           0\n",
       "claim_type              0\n",
       "claim_amount           65\n",
       "total_policy_claims    10\n",
       "fraudulent              0\n",
       "CUST_ID                 0\n",
       "gender                  0\n",
       "DateOfBirth             0\n",
       "State                   0\n",
       "Contact                 0\n",
       "Segment                 0\n",
       "unreported_claims       0\n",
       "dtype: int64"
      ]
     },
     "execution_count": 34,
     "metadata": {},
     "output_type": "execute_result"
    }
   ],
   "source": [
    "Cust_claims.isna().sum()"
   ]
  },
  {
   "cell_type": "code",
   "execution_count": 36,
   "id": "51708eb7",
   "metadata": {},
   "outputs": [
    {
     "data": {
      "text/plain": [
       "0"
      ]
     },
     "execution_count": 36,
     "metadata": {},
     "output_type": "execute_result"
    }
   ],
   "source": [
    "Cust_claims[\"claim_amount\"]= Cust_claims['claim_amount'].replace(np.NaN,Cust_claims['claim_amount'].mean())\n",
    "Cust_claims[\"claim_amount\"].isna().sum()\n"
   ]
  },
  {
   "cell_type": "code",
   "execution_count": 37,
   "id": "7194c9d2",
   "metadata": {},
   "outputs": [
    {
     "name": "stdout",
     "output_type": "stream",
     "text": [
      "<class 'pandas.core.frame.DataFrame'>\n",
      "Int64Index: 1078 entries, 0 to 1084\n",
      "Data columns (total 17 columns):\n",
      " #   Column               Non-Null Count  Dtype         \n",
      "---  ------               --------------  -----         \n",
      " 0   claim_id             1078 non-null   int64         \n",
      " 1   customer_id          1078 non-null   int64         \n",
      " 2   incident_cause       1078 non-null   object        \n",
      " 3   claim_date           1078 non-null   datetime64[ns]\n",
      " 4   claim_area           1078 non-null   object        \n",
      " 5   police_report        1078 non-null   object        \n",
      " 6   claim_type           1078 non-null   object        \n",
      " 7   claim_amount         1078 non-null   float64       \n",
      " 8   total_policy_claims  1068 non-null   float64       \n",
      " 9   fraudulent           1078 non-null   object        \n",
      " 10  CUST_ID              1078 non-null   int64         \n",
      " 11  gender               1078 non-null   object        \n",
      " 12  DateOfBirth          1078 non-null   datetime64[ns]\n",
      " 13  State                1078 non-null   object        \n",
      " 14  Contact              1078 non-null   object        \n",
      " 15  Segment              1078 non-null   object        \n",
      " 16  unreported_claims    1078 non-null   int32         \n",
      "dtypes: datetime64[ns](2), float64(2), int32(1), int64(3), object(9)\n",
      "memory usage: 147.4+ KB\n"
     ]
    }
   ],
   "source": [
    "Cust_claims.info()"
   ]
  },
  {
   "cell_type": "code",
   "execution_count": 38,
   "id": "ac0829d4",
   "metadata": {},
   "outputs": [],
   "source": [
    "Cust_claims[\"total_policy_claims\"] = Cust_claims['total_policy_claims'].fillna(Cust_claims['total_policy_claims'].mode()[0])"
   ]
  },
  {
   "cell_type": "code",
   "execution_count": 39,
   "id": "2ee50834",
   "metadata": {},
   "outputs": [],
   "source": [
    "Cust_claims[\"total_policy_claims\"]= Cust_claims[\"total_policy_claims\"].astype(str)"
   ]
  },
  {
   "cell_type": "code",
   "execution_count": 40,
   "id": "1e883514",
   "metadata": {},
   "outputs": [
    {
     "data": {
      "text/plain": [
       "0"
      ]
     },
     "execution_count": 40,
     "metadata": {},
     "output_type": "execute_result"
    }
   ],
   "source": [
    "Cust_claims[\"total_policy_claims\"].isna().sum()"
   ]
  },
  {
   "cell_type": "code",
   "execution_count": 41,
   "id": "e1bb2b2d",
   "metadata": {},
   "outputs": [],
   "source": [
    "#Question-7"
   ]
  },
  {
   "cell_type": "code",
   "execution_count": 42,
   "id": "127fb35c",
   "metadata": {},
   "outputs": [],
   "source": [
    "curr_year = pd.to_datetime('today').year\n",
    "dob_year = pd.DatetimeIndex(Cust_claims['DateOfBirth']).year          #extract year from DateOfBirth\n",
    "x = dob_year-100                                               # for the years which belongs to 60's\n",
    "v = curr_year - x\n",
    "y = curr_year - dob_year\n",
    "Cust_claims['age'] = (np.where(dob_year > curr_year,v,y))\n",
    "#Categorising\n",
    "Cust_claims.loc[(Cust_claims.age < 18),'AgeGroup'] = 'Children'\n",
    "Cust_claims.loc[(Cust_claims.age >=18) & (Cust_claims.age <30),'AgeGroup'] = 'Youth'\n",
    "Cust_claims.loc[(Cust_claims.age >=30) & (Cust_claims.age <60),'AgeGroup'] = 'Adult'\n",
    "Cust_claims.loc[(Cust_claims.age >=60),'AgeGroup'] = 'Senior'"
   ]
  },
  {
   "cell_type": "code",
   "execution_count": 43,
   "id": "8b88f097",
   "metadata": {},
   "outputs": [
    {
     "data": {
      "text/html": [
       "<div>\n",
       "<style scoped>\n",
       "    .dataframe tbody tr th:only-of-type {\n",
       "        vertical-align: middle;\n",
       "    }\n",
       "\n",
       "    .dataframe tbody tr th {\n",
       "        vertical-align: top;\n",
       "    }\n",
       "\n",
       "    .dataframe thead th {\n",
       "        text-align: right;\n",
       "    }\n",
       "</style>\n",
       "<table border=\"1\" class=\"dataframe\">\n",
       "  <thead>\n",
       "    <tr style=\"text-align: right;\">\n",
       "      <th></th>\n",
       "      <th>claim_id</th>\n",
       "      <th>customer_id</th>\n",
       "      <th>incident_cause</th>\n",
       "      <th>claim_date</th>\n",
       "      <th>claim_area</th>\n",
       "      <th>police_report</th>\n",
       "      <th>claim_type</th>\n",
       "      <th>claim_amount</th>\n",
       "      <th>total_policy_claims</th>\n",
       "      <th>fraudulent</th>\n",
       "      <th>CUST_ID</th>\n",
       "      <th>gender</th>\n",
       "      <th>DateOfBirth</th>\n",
       "      <th>State</th>\n",
       "      <th>Contact</th>\n",
       "      <th>Segment</th>\n",
       "      <th>unreported_claims</th>\n",
       "      <th>age</th>\n",
       "      <th>AgeGroup</th>\n",
       "    </tr>\n",
       "  </thead>\n",
       "  <tbody>\n",
       "    <tr>\n",
       "      <th>0</th>\n",
       "      <td>54004764</td>\n",
       "      <td>21868593</td>\n",
       "      <td>Driver error</td>\n",
       "      <td>2017-11-27</td>\n",
       "      <td>Auto</td>\n",
       "      <td>No</td>\n",
       "      <td>Material only</td>\n",
       "      <td>2980.0</td>\n",
       "      <td>1.0</td>\n",
       "      <td>No</td>\n",
       "      <td>21868593</td>\n",
       "      <td>Female</td>\n",
       "      <td>1979-01-12</td>\n",
       "      <td>VT</td>\n",
       "      <td>789-916-8172</td>\n",
       "      <td>Platinum</td>\n",
       "      <td>0</td>\n",
       "      <td>43</td>\n",
       "      <td>Adult</td>\n",
       "    </tr>\n",
       "    <tr>\n",
       "      <th>1</th>\n",
       "      <td>33985796</td>\n",
       "      <td>75740424</td>\n",
       "      <td>Crime</td>\n",
       "      <td>2018-10-03</td>\n",
       "      <td>Home</td>\n",
       "      <td>Unknown</td>\n",
       "      <td>Material only</td>\n",
       "      <td>2980.0</td>\n",
       "      <td>3.0</td>\n",
       "      <td>No</td>\n",
       "      <td>75740424</td>\n",
       "      <td>Female</td>\n",
       "      <td>1970-01-13</td>\n",
       "      <td>ME</td>\n",
       "      <td>265-543-1264</td>\n",
       "      <td>Silver</td>\n",
       "      <td>1</td>\n",
       "      <td>52</td>\n",
       "      <td>Adult</td>\n",
       "    </tr>\n",
       "    <tr>\n",
       "      <th>3</th>\n",
       "      <td>63017412</td>\n",
       "      <td>30308357</td>\n",
       "      <td>Driver error</td>\n",
       "      <td>2018-04-04</td>\n",
       "      <td>Auto</td>\n",
       "      <td>No</td>\n",
       "      <td>Material only</td>\n",
       "      <td>1950.0</td>\n",
       "      <td>6.0</td>\n",
       "      <td>No</td>\n",
       "      <td>30308357</td>\n",
       "      <td>Female</td>\n",
       "      <td>1984-03-11</td>\n",
       "      <td>TN</td>\n",
       "      <td>798-631-4758</td>\n",
       "      <td>Silver</td>\n",
       "      <td>0</td>\n",
       "      <td>38</td>\n",
       "      <td>Adult</td>\n",
       "    </tr>\n",
       "    <tr>\n",
       "      <th>5</th>\n",
       "      <td>91609100</td>\n",
       "      <td>47830476</td>\n",
       "      <td>Natural causes</td>\n",
       "      <td>2017-04-12</td>\n",
       "      <td>Auto</td>\n",
       "      <td>Unknown</td>\n",
       "      <td>Material only</td>\n",
       "      <td>1440.0</td>\n",
       "      <td>1.0</td>\n",
       "      <td>No</td>\n",
       "      <td>47830476</td>\n",
       "      <td>Female</td>\n",
       "      <td>1986-05-01</td>\n",
       "      <td>MA</td>\n",
       "      <td>413-187-7945</td>\n",
       "      <td>Silver</td>\n",
       "      <td>1</td>\n",
       "      <td>36</td>\n",
       "      <td>Adult</td>\n",
       "    </tr>\n",
       "    <tr>\n",
       "      <th>7</th>\n",
       "      <td>39219616</td>\n",
       "      <td>19269962</td>\n",
       "      <td>Other causes</td>\n",
       "      <td>2018-09-26</td>\n",
       "      <td>Auto</td>\n",
       "      <td>No</td>\n",
       "      <td>Material only</td>\n",
       "      <td>2240.0</td>\n",
       "      <td>2.0</td>\n",
       "      <td>No</td>\n",
       "      <td>19269962</td>\n",
       "      <td>Male</td>\n",
       "      <td>1977-05-13</td>\n",
       "      <td>NV</td>\n",
       "      <td>956-871-8691</td>\n",
       "      <td>Gold</td>\n",
       "      <td>0</td>\n",
       "      <td>45</td>\n",
       "      <td>Adult</td>\n",
       "    </tr>\n",
       "    <tr>\n",
       "      <th>9</th>\n",
       "      <td>91475471</td>\n",
       "      <td>21831191</td>\n",
       "      <td>Driver error</td>\n",
       "      <td>2018-02-09</td>\n",
       "      <td>Auto</td>\n",
       "      <td>Unknown</td>\n",
       "      <td>Material and injury</td>\n",
       "      <td>36810.0</td>\n",
       "      <td>1.0</td>\n",
       "      <td>No</td>\n",
       "      <td>21831191</td>\n",
       "      <td>Male</td>\n",
       "      <td>1977-05-17</td>\n",
       "      <td>NH</td>\n",
       "      <td>419-712-8513</td>\n",
       "      <td>Gold</td>\n",
       "      <td>1</td>\n",
       "      <td>45</td>\n",
       "      <td>Adult</td>\n",
       "    </tr>\n",
       "    <tr>\n",
       "      <th>10</th>\n",
       "      <td>12878692</td>\n",
       "      <td>18401412</td>\n",
       "      <td>Driver error</td>\n",
       "      <td>2018-01-13</td>\n",
       "      <td>Auto</td>\n",
       "      <td>No</td>\n",
       "      <td>Material only</td>\n",
       "      <td>1730.0</td>\n",
       "      <td>4.0</td>\n",
       "      <td>No</td>\n",
       "      <td>18401412</td>\n",
       "      <td>Male</td>\n",
       "      <td>1999-03-02</td>\n",
       "      <td>AR</td>\n",
       "      <td>752-398-2914</td>\n",
       "      <td>Gold</td>\n",
       "      <td>0</td>\n",
       "      <td>23</td>\n",
       "      <td>Youth</td>\n",
       "    </tr>\n",
       "    <tr>\n",
       "      <th>11</th>\n",
       "      <td>27026412</td>\n",
       "      <td>73486606</td>\n",
       "      <td>Natural causes</td>\n",
       "      <td>2018-04-10</td>\n",
       "      <td>Auto</td>\n",
       "      <td>No</td>\n",
       "      <td>Material only</td>\n",
       "      <td>1160.0</td>\n",
       "      <td>3.0</td>\n",
       "      <td>No</td>\n",
       "      <td>73486606</td>\n",
       "      <td>Male</td>\n",
       "      <td>1999-10-25</td>\n",
       "      <td>AK</td>\n",
       "      <td>256-968-9172</td>\n",
       "      <td>Silver</td>\n",
       "      <td>0</td>\n",
       "      <td>23</td>\n",
       "      <td>Youth</td>\n",
       "    </tr>\n",
       "    <tr>\n",
       "      <th>12</th>\n",
       "      <td>43908336</td>\n",
       "      <td>32813689</td>\n",
       "      <td>Crime</td>\n",
       "      <td>2018-02-15</td>\n",
       "      <td>Auto</td>\n",
       "      <td>Unknown</td>\n",
       "      <td>Material only</td>\n",
       "      <td>2620.0</td>\n",
       "      <td>1.0</td>\n",
       "      <td>No</td>\n",
       "      <td>32813689</td>\n",
       "      <td>Male</td>\n",
       "      <td>1993-10-12</td>\n",
       "      <td>ID</td>\n",
       "      <td>142-324-7481</td>\n",
       "      <td>Silver</td>\n",
       "      <td>1</td>\n",
       "      <td>29</td>\n",
       "      <td>Youth</td>\n",
       "    </tr>\n",
       "    <tr>\n",
       "      <th>13</th>\n",
       "      <td>63246959</td>\n",
       "      <td>33507197</td>\n",
       "      <td>Crime</td>\n",
       "      <td>2017-07-22</td>\n",
       "      <td>Auto</td>\n",
       "      <td>No</td>\n",
       "      <td>Material only</td>\n",
       "      <td>2748.5</td>\n",
       "      <td>2.0</td>\n",
       "      <td>Yes</td>\n",
       "      <td>33507197</td>\n",
       "      <td>Female</td>\n",
       "      <td>1966-09-09</td>\n",
       "      <td>RI</td>\n",
       "      <td>165-519-4583</td>\n",
       "      <td>Gold</td>\n",
       "      <td>0</td>\n",
       "      <td>56</td>\n",
       "      <td>Adult</td>\n",
       "    </tr>\n",
       "  </tbody>\n",
       "</table>\n",
       "</div>"
      ],
      "text/plain": [
       "    claim_id  customer_id  incident_cause claim_date claim_area police_report  \\\n",
       "0   54004764     21868593    Driver error 2017-11-27       Auto            No   \n",
       "1   33985796     75740424           Crime 2018-10-03       Home       Unknown   \n",
       "3   63017412     30308357    Driver error 2018-04-04       Auto            No   \n",
       "5   91609100     47830476  Natural causes 2017-04-12       Auto       Unknown   \n",
       "7   39219616     19269962    Other causes 2018-09-26       Auto            No   \n",
       "9   91475471     21831191    Driver error 2018-02-09       Auto       Unknown   \n",
       "10  12878692     18401412    Driver error 2018-01-13       Auto            No   \n",
       "11  27026412     73486606  Natural causes 2018-04-10       Auto            No   \n",
       "12  43908336     32813689           Crime 2018-02-15       Auto       Unknown   \n",
       "13  63246959     33507197           Crime 2017-07-22       Auto            No   \n",
       "\n",
       "             claim_type  claim_amount total_policy_claims fraudulent  \\\n",
       "0         Material only        2980.0                 1.0         No   \n",
       "1         Material only        2980.0                 3.0         No   \n",
       "3         Material only        1950.0                 6.0         No   \n",
       "5         Material only        1440.0                 1.0         No   \n",
       "7         Material only        2240.0                 2.0         No   \n",
       "9   Material and injury       36810.0                 1.0         No   \n",
       "10        Material only        1730.0                 4.0         No   \n",
       "11        Material only        1160.0                 3.0         No   \n",
       "12        Material only        2620.0                 1.0         No   \n",
       "13        Material only        2748.5                 2.0        Yes   \n",
       "\n",
       "     CUST_ID  gender DateOfBirth State       Contact   Segment  \\\n",
       "0   21868593  Female  1979-01-12    VT  789-916-8172  Platinum   \n",
       "1   75740424  Female  1970-01-13    ME  265-543-1264    Silver   \n",
       "3   30308357  Female  1984-03-11    TN  798-631-4758    Silver   \n",
       "5   47830476  Female  1986-05-01    MA  413-187-7945    Silver   \n",
       "7   19269962    Male  1977-05-13    NV  956-871-8691      Gold   \n",
       "9   21831191    Male  1977-05-17    NH  419-712-8513      Gold   \n",
       "10  18401412    Male  1999-03-02    AR  752-398-2914      Gold   \n",
       "11  73486606    Male  1999-10-25    AK  256-968-9172    Silver   \n",
       "12  32813689    Male  1993-10-12    ID  142-324-7481    Silver   \n",
       "13  33507197  Female  1966-09-09    RI  165-519-4583      Gold   \n",
       "\n",
       "    unreported_claims  age AgeGroup  \n",
       "0                   0   43    Adult  \n",
       "1                   1   52    Adult  \n",
       "3                   0   38    Adult  \n",
       "5                   1   36    Adult  \n",
       "7                   0   45    Adult  \n",
       "9                   1   45    Adult  \n",
       "10                  0   23    Youth  \n",
       "11                  0   23    Youth  \n",
       "12                  1   29    Youth  \n",
       "13                  0   56    Adult  "
      ]
     },
     "execution_count": 43,
     "metadata": {},
     "output_type": "execute_result"
    }
   ],
   "source": [
    "Cust_claims.head(10)"
   ]
  },
  {
   "cell_type": "code",
   "execution_count": 44,
   "id": "e638c5cb",
   "metadata": {},
   "outputs": [
    {
     "data": {
      "text/plain": [
       "AgeGroup\n",
       "Adult     795\n",
       "Senior     75\n",
       "Youth     208\n",
       "Name: age, dtype: int64"
      ]
     },
     "execution_count": 44,
     "metadata": {},
     "output_type": "execute_result"
    }
   ],
   "source": [
    "Cust_claims.groupby([\"AgeGroup\"])[\"age\"].count()"
   ]
  },
  {
   "cell_type": "code",
   "execution_count": 45,
   "id": "91e9d72e",
   "metadata": {},
   "outputs": [],
   "source": [
    "#Question-8"
   ]
  },
  {
   "cell_type": "code",
   "execution_count": 46,
   "id": "dd1040f7",
   "metadata": {},
   "outputs": [
    {
     "data": {
      "text/plain": [
       "Segment\n",
       "Gold        12846.39\n",
       "Platinum    12371.64\n",
       "Silver      12267.15\n",
       "Name: claim_amount, dtype: float64"
      ]
     },
     "execution_count": 46,
     "metadata": {},
     "output_type": "execute_result"
    }
   ],
   "source": [
    "Avg_amount_segment= round(Cust_claims.groupby([\"Segment\"])[\"claim_amount\"].mean(),2)\n",
    "Avg_amount_segment"
   ]
  },
  {
   "cell_type": "code",
   "execution_count": 47,
   "id": "42e121e5",
   "metadata": {},
   "outputs": [],
   "source": [
    "#Question-9"
   ]
  },
  {
   "cell_type": "code",
   "execution_count": 48,
   "id": "c5baeb2f",
   "metadata": {},
   "outputs": [
    {
     "data": {
      "text/plain": [
       "incident_cause\n",
       "total_Crime                  721937.45\n",
       "total_Driver error          3315847.88\n",
       "total_Natural causes        1312744.91\n",
       "total_Other causes          3723147.30\n",
       "total_Other driver error    3277533.37\n",
       "Name: claim_amount, dtype: float64"
      ]
     },
     "execution_count": 48,
     "metadata": {},
     "output_type": "execute_result"
    }
   ],
   "source": [
    "Amount_incedent= round(Cust_claims.loc[Cust_claims.claim_date < \"2018-09-10\",:].groupby(\"incident_cause\")[\"claim_amount\"].sum().add_prefix(\"total_\"),2)\n",
    "Amount_incedent"
   ]
  },
  {
   "cell_type": "code",
   "execution_count": 49,
   "id": "183d84c5",
   "metadata": {},
   "outputs": [],
   "source": [
    "#Question-10"
   ]
  },
  {
   "cell_type": "code",
   "execution_count": 50,
   "id": "c418ffd3",
   "metadata": {},
   "outputs": [
    {
     "data": {
      "text/plain": [
       "Index(['claim_id', 'customer_id', 'incident_cause', 'claim_date', 'claim_area',\n",
       "       'police_report', 'claim_type', 'claim_amount', 'total_policy_claims',\n",
       "       'fraudulent', 'CUST_ID', 'gender', 'DateOfBirth', 'State', 'Contact',\n",
       "       'Segment', 'unreported_claims', 'age', 'AgeGroup'],\n",
       "      dtype='object')"
      ]
     },
     "execution_count": 50,
     "metadata": {},
     "output_type": "execute_result"
    }
   ],
   "source": [
    "Cust_claims.columns"
   ]
  },
  {
   "cell_type": "code",
   "execution_count": 52,
   "id": "85b5a6e9",
   "metadata": {},
   "outputs": [
    {
     "data": {
      "text/plain": [
       "State\n",
       "AK    19\n",
       "DE    29\n",
       "TX    10\n",
       "Name: claim_amount, dtype: int64"
      ]
     },
     "execution_count": 52,
     "metadata": {},
     "output_type": "execute_result"
    }
   ],
   "source": [
    "Adults_claims_count= Cust_claims.loc[(Cust_claims.incident_cause.str.lower().str.contains(\"driver\") & (Cust_claims.State== \"TX\") | (Cust_claims.State== \"DE\") | (Cust_claims.State== \"AK\")) ].groupby([\"State\"])[\"claim_amount\"].count()\n",
    "Adults_claims_count"
   ]
  },
  {
   "cell_type": "code",
   "execution_count": 53,
   "id": "da6eb79b",
   "metadata": {},
   "outputs": [],
   "source": [
    "#Question-11"
   ]
  },
  {
   "cell_type": "code",
   "execution_count": 54,
   "id": "e3cf3715",
   "metadata": {},
   "outputs": [
    {
     "data": {
      "text/html": [
       "<div>\n",
       "<style scoped>\n",
       "    .dataframe tbody tr th:only-of-type {\n",
       "        vertical-align: middle;\n",
       "    }\n",
       "\n",
       "    .dataframe tbody tr th {\n",
       "        vertical-align: top;\n",
       "    }\n",
       "\n",
       "    .dataframe thead th {\n",
       "        text-align: right;\n",
       "    }\n",
       "</style>\n",
       "<table border=\"1\" class=\"dataframe\">\n",
       "  <thead>\n",
       "    <tr style=\"text-align: right;\">\n",
       "      <th></th>\n",
       "      <th>Segment</th>\n",
       "      <th>gender</th>\n",
       "      <th>claim_amount</th>\n",
       "    </tr>\n",
       "  </thead>\n",
       "  <tbody>\n",
       "    <tr>\n",
       "      <th>0</th>\n",
       "      <td>Gold</td>\n",
       "      <td>Female</td>\n",
       "      <td>2110042.41</td>\n",
       "    </tr>\n",
       "    <tr>\n",
       "      <th>1</th>\n",
       "      <td>Gold</td>\n",
       "      <td>Male</td>\n",
       "      <td>2655966.87</td>\n",
       "    </tr>\n",
       "    <tr>\n",
       "      <th>2</th>\n",
       "      <td>Platinum</td>\n",
       "      <td>Female</td>\n",
       "      <td>2369720.43</td>\n",
       "    </tr>\n",
       "    <tr>\n",
       "      <th>3</th>\n",
       "      <td>Platinum</td>\n",
       "      <td>Male</td>\n",
       "      <td>2096443.42</td>\n",
       "    </tr>\n",
       "    <tr>\n",
       "      <th>4</th>\n",
       "      <td>Silver</td>\n",
       "      <td>Female</td>\n",
       "      <td>1897301.87</td>\n",
       "    </tr>\n",
       "    <tr>\n",
       "      <th>5</th>\n",
       "      <td>Silver</td>\n",
       "      <td>Male</td>\n",
       "      <td>2347130.84</td>\n",
       "    </tr>\n",
       "  </tbody>\n",
       "</table>\n",
       "</div>"
      ],
      "text/plain": [
       "    Segment  gender  claim_amount\n",
       "0      Gold  Female    2110042.41\n",
       "1      Gold    Male    2655966.87\n",
       "2  Platinum  Female    2369720.43\n",
       "3  Platinum    Male    2096443.42\n",
       "4    Silver  Female    1897301.87\n",
       "5    Silver    Male    2347130.84"
      ]
     },
     "execution_count": 54,
     "metadata": {},
     "output_type": "execute_result"
    }
   ],
   "source": [
    "Claim_gender_segment= round(Cust_claims.groupby([\"Segment\", \"gender\"])[\"claim_amount\"].sum().reset_index(),2)\n",
    "Claim_gender_segment"
   ]
  },
  {
   "cell_type": "code",
   "execution_count": 55,
   "id": "9d4d1552",
   "metadata": {},
   "outputs": [
    {
     "data": {
      "text/html": [
       "<div>\n",
       "<style scoped>\n",
       "    .dataframe tbody tr th:only-of-type {\n",
       "        vertical-align: middle;\n",
       "    }\n",
       "\n",
       "    .dataframe tbody tr th {\n",
       "        vertical-align: top;\n",
       "    }\n",
       "\n",
       "    .dataframe thead th {\n",
       "        text-align: right;\n",
       "    }\n",
       "</style>\n",
       "<table border=\"1\" class=\"dataframe\">\n",
       "  <thead>\n",
       "    <tr style=\"text-align: right;\">\n",
       "      <th>gender</th>\n",
       "      <th>Female</th>\n",
       "      <th>Male</th>\n",
       "    </tr>\n",
       "    <tr>\n",
       "      <th>Segment</th>\n",
       "      <th></th>\n",
       "      <th></th>\n",
       "    </tr>\n",
       "  </thead>\n",
       "  <tbody>\n",
       "    <tr>\n",
       "      <th>Gold</th>\n",
       "      <td>2110042.41</td>\n",
       "      <td>2655966.87</td>\n",
       "    </tr>\n",
       "    <tr>\n",
       "      <th>Platinum</th>\n",
       "      <td>2369720.43</td>\n",
       "      <td>2096443.42</td>\n",
       "    </tr>\n",
       "    <tr>\n",
       "      <th>Silver</th>\n",
       "      <td>1897301.87</td>\n",
       "      <td>2347130.84</td>\n",
       "    </tr>\n",
       "  </tbody>\n",
       "</table>\n",
       "</div>"
      ],
      "text/plain": [
       "gender        Female        Male\n",
       "Segment                         \n",
       "Gold      2110042.41  2655966.87\n",
       "Platinum  2369720.43  2096443.42\n",
       "Silver    1897301.87  2347130.84"
      ]
     },
     "execution_count": 55,
     "metadata": {},
     "output_type": "execute_result"
    }
   ],
   "source": [
    "Claim_gender_segment_pivot= Claim_gender_segment.pivot(index=\"Segment\", columns= \"gender\", values= \"claim_amount\")\n",
    "Claim_gender_segment_pivot\n"
   ]
  },
  {
   "cell_type": "code",
   "execution_count": 56,
   "id": "0d0d8be7",
   "metadata": {},
   "outputs": [
    {
     "data": {
      "image/png": "[encoded data removed]",
      "text/plain": [
       "<Figure size 1440x720 with 3 Axes>"
      ]
     },
     "metadata": {},
     "output_type": "display_data"
    }
   ],
   "source": [
    "Claim_gender_segment_pivot.T.plot(kind=\"pie\", subplots= True, legend= False,figsize=(20,10))\n",
    "plt.show()"
   ]
  },
  {
   "cell_type": "code",
   "execution_count": 57,
   "id": "932f8c14",
   "metadata": {},
   "outputs": [],
   "source": [
    "#Question-12"
   ]
  },
  {
   "cell_type": "code",
   "execution_count": 58,
   "id": "1519322c",
   "metadata": {},
   "outputs": [
    {
     "data": {
      "text/html": [
       "<div>\n",
       "<style scoped>\n",
       "    .dataframe tbody tr th:only-of-type {\n",
       "        vertical-align: middle;\n",
       "    }\n",
       "\n",
       "    .dataframe tbody tr th {\n",
       "        vertical-align: top;\n",
       "    }\n",
       "\n",
       "    .dataframe thead th {\n",
       "        text-align: right;\n",
       "    }\n",
       "</style>\n",
       "<table border=\"1\" class=\"dataframe\">\n",
       "  <thead>\n",
       "    <tr style=\"text-align: right;\">\n",
       "      <th></th>\n",
       "      <th>gender</th>\n",
       "      <th>countOf_gender</th>\n",
       "    </tr>\n",
       "  </thead>\n",
       "  <tbody>\n",
       "    <tr>\n",
       "      <th>0</th>\n",
       "      <td>Female</td>\n",
       "      <td>221</td>\n",
       "    </tr>\n",
       "    <tr>\n",
       "      <th>1</th>\n",
       "      <td>Male</td>\n",
       "      <td>281</td>\n",
       "    </tr>\n",
       "  </tbody>\n",
       "</table>\n",
       "</div>"
      ],
      "text/plain": [
       "   gender  countOf_gender\n",
       "0  Female             221\n",
       "1    Male             281"
      ]
     },
     "execution_count": 58,
     "metadata": {},
     "output_type": "execute_result"
    }
   ],
   "source": [
    "Claim_gender_driver= Cust_claims.loc[(Cust_claims.incident_cause.str.lower().str.contains(\"driver\"))].groupby([\"gender\"])[[\"gender\"]].count().add_prefix(\"countOf_\").reset_index()\n",
    "Claim_gender_driver\n"
   ]
  },
  {
   "cell_type": "code",
   "execution_count": 59,
   "id": "7ba467eb",
   "metadata": {},
   "outputs": [
    {
     "data": {
      "text/plain": [
       "[]"
      ]
     },
     "execution_count": 59,
     "metadata": {},
     "output_type": "execute_result"
    },
    {
     "data": {
      "image/png": "[encoded data removed]",
      "text/plain": [
       "<Figure size 432x288 with 1 Axes>"
      ]
     },
     "metadata": {
      "needs_background": "light"
     },
     "output_type": "display_data"
    }
   ],
   "source": [
    "sns.barplot(x= \"gender\", y= \"countOf_gender\", data= Claim_gender_driver)\n",
    "plt.plot()"
   ]
  },
  {
   "cell_type": "code",
   "execution_count": 60,
   "id": "65183519",
   "metadata": {},
   "outputs": [],
   "source": [
    "#Question-13"
   ]
  },
  {
   "cell_type": "code",
   "execution_count": 61,
   "id": "11188e2c",
   "metadata": {},
   "outputs": [],
   "source": [
    "Cust_claims[\"Frauds\"]= np.where(Cust_claims.fraudulent == \"Yes\",1,0)"
   ]
  },
  {
   "cell_type": "code",
   "execution_count": 62,
   "id": "b4d19f4b",
   "metadata": {},
   "outputs": [
    {
     "data": {
      "text/html": [
       "<div>\n",
       "<style scoped>\n",
       "    .dataframe tbody tr th:only-of-type {\n",
       "        vertical-align: middle;\n",
       "    }\n",
       "\n",
       "    .dataframe tbody tr th {\n",
       "        vertical-align: top;\n",
       "    }\n",
       "\n",
       "    .dataframe thead th {\n",
       "        text-align: right;\n",
       "    }\n",
       "</style>\n",
       "<table border=\"1\" class=\"dataframe\">\n",
       "  <thead>\n",
       "    <tr style=\"text-align: right;\">\n",
       "      <th></th>\n",
       "      <th>AgeGroup</th>\n",
       "      <th>Frauds</th>\n",
       "    </tr>\n",
       "  </thead>\n",
       "  <tbody>\n",
       "    <tr>\n",
       "      <th>0</th>\n",
       "      <td>Adult</td>\n",
       "      <td>185</td>\n",
       "    </tr>\n",
       "    <tr>\n",
       "      <th>1</th>\n",
       "      <td>Senior</td>\n",
       "      <td>21</td>\n",
       "    </tr>\n",
       "    <tr>\n",
       "      <th>2</th>\n",
       "      <td>Youth</td>\n",
       "      <td>39</td>\n",
       "    </tr>\n",
       "  </tbody>\n",
       "</table>\n",
       "</div>"
      ],
      "text/plain": [
       "  AgeGroup  Frauds\n",
       "0    Adult     185\n",
       "1   Senior      21\n",
       "2    Youth      39"
      ]
     },
     "execution_count": 62,
     "metadata": {},
     "output_type": "execute_result"
    }
   ],
   "source": [
    "AgeGroup_max_frauds= Cust_claims.groupby([\"AgeGroup\"])[\"Frauds\"].sum().reset_index()\n",
    "AgeGroup_max_frauds\n"
   ]
  },
  {
   "cell_type": "code",
   "execution_count": 63,
   "id": "56649353",
   "metadata": {},
   "outputs": [
    {
     "data": {
      "text/plain": [
       "[]"
      ]
     },
     "execution_count": 63,
     "metadata": {},
     "output_type": "execute_result"
    },
    {
     "data": {
      "image/png": "[encoded data removed]",
      "text/plain": [
       "<Figure size 432x288 with 1 Axes>"
      ]
     },
     "metadata": {
      "needs_background": "light"
     },
     "output_type": "display_data"
    }
   ],
   "source": [
    "sns.barplot(x= \"AgeGroup\", y=\"Frauds\", data=AgeGroup_max_frauds )\n",
    "plt.plot()"
   ]
  },
  {
   "cell_type": "code",
   "execution_count": 64,
   "id": "3f042dba",
   "metadata": {},
   "outputs": [],
   "source": [
    "#Question-14"
   ]
  },
  {
   "cell_type": "code",
   "execution_count": 65,
   "id": "2a749a75",
   "metadata": {},
   "outputs": [],
   "source": [
    "Cust_claims['claim_month'] = pd.to_datetime(Cust_claims['claim_date'])\n",
    "Cust_claims['Claim_month'] = Cust_claims['claim_month'].dt.month\n"
   ]
  },
  {
   "cell_type": "code",
   "execution_count": 66,
   "id": "c1da6b61",
   "metadata": {},
   "outputs": [
    {
     "data": {
      "image/png": "[encoded data removed]",
      "text/plain": [
       "<Figure size 432x288 with 1 Axes>"
      ]
     },
     "metadata": {
      "needs_background": "light"
     },
     "output_type": "display_data"
    }
   ],
   "source": [
    "pd.pivot_table(Cust_claims,index=\"Claim_month\",values=\"claim_amount\").plot(kind='bar')\n",
    "plt.ylabel('Total amount spend')\n",
    "plt.show()\n"
   ]
  },
  {
   "cell_type": "code",
   "execution_count": 67,
   "id": "b9b468c3",
   "metadata": {},
   "outputs": [],
   "source": [
    "#Question-15"
   ]
  },
  {
   "cell_type": "code",
   "execution_count": 68,
   "id": "aa8366cc",
   "metadata": {},
   "outputs": [],
   "source": [
    "Frauds_amount_gender= pd.DataFrame(Cust_claims.loc[(Cust_claims.fraudulent==\"Yes\")].groupby([\"gender\",\"AgeGroup\"])[[\"claim_amount\"]].mean().add_prefix(\"Fraud_\"))\n",
    "Non_Frauds_amount_gender=pd.DataFrame(Cust_claims.loc[(Cust_claims.fraudulent==\"No\")].groupby([\"gender\",\"AgeGroup\"])[[\"claim_amount\"]].mean().add_prefix(\"Non_Fraud_\"))"
   ]
  },
  {
   "cell_type": "code",
   "execution_count": 70,
   "id": "a1eced97",
   "metadata": {},
   "outputs": [
    {
     "data": {
      "text/html": [
       "<div>\n",
       "<style scoped>\n",
       "    .dataframe tbody tr th:only-of-type {\n",
       "        vertical-align: middle;\n",
       "    }\n",
       "\n",
       "    .dataframe tbody tr th {\n",
       "        vertical-align: top;\n",
       "    }\n",
       "\n",
       "    .dataframe thead th {\n",
       "        text-align: right;\n",
       "    }\n",
       "</style>\n",
       "<table border=\"1\" class=\"dataframe\">\n",
       "  <thead>\n",
       "    <tr style=\"text-align: right;\">\n",
       "      <th></th>\n",
       "      <th></th>\n",
       "      <th>Fraud_claim_amount</th>\n",
       "      <th>Non_Fraud_claim_amount</th>\n",
       "    </tr>\n",
       "    <tr>\n",
       "      <th>gender</th>\n",
       "      <th>AgeGroup</th>\n",
       "      <th></th>\n",
       "      <th></th>\n",
       "    </tr>\n",
       "  </thead>\n",
       "  <tbody>\n",
       "    <tr>\n",
       "      <th rowspan=\"3\" valign=\"top\">Female</th>\n",
       "      <th>Adult</th>\n",
       "      <td>12630.10</td>\n",
       "      <td>11982.03</td>\n",
       "    </tr>\n",
       "    <tr>\n",
       "      <th>Senior</th>\n",
       "      <td>3779.08</td>\n",
       "      <td>14965.37</td>\n",
       "    </tr>\n",
       "    <tr>\n",
       "      <th>Youth</th>\n",
       "      <td>9220.45</td>\n",
       "      <td>13174.54</td>\n",
       "    </tr>\n",
       "    <tr>\n",
       "      <th rowspan=\"3\" valign=\"top\">Male</th>\n",
       "      <th>Adult</th>\n",
       "      <td>16049.17</td>\n",
       "      <td>12375.02</td>\n",
       "    </tr>\n",
       "    <tr>\n",
       "      <th>Senior</th>\n",
       "      <td>16879.12</td>\n",
       "      <td>12607.77</td>\n",
       "    </tr>\n",
       "    <tr>\n",
       "      <th>Youth</th>\n",
       "      <td>7799.61</td>\n",
       "      <td>12089.53</td>\n",
       "    </tr>\n",
       "  </tbody>\n",
       "</table>\n",
       "</div>"
      ],
      "text/plain": [
       "                 Fraud_claim_amount  Non_Fraud_claim_amount\n",
       "gender AgeGroup                                            \n",
       "Female Adult               12630.10                11982.03\n",
       "       Senior               3779.08                14965.37\n",
       "       Youth                9220.45                13174.54\n",
       "Male   Adult               16049.17                12375.02\n",
       "       Senior              16879.12                12607.77\n",
       "       Youth                7799.61                12089.53"
      ]
     },
     "execution_count": 70,
     "metadata": {},
     "output_type": "execute_result"
    }
   ],
   "source": [
    "Claims_age_gender=round(pd.merge(Frauds_amount_gender,Non_Frauds_amount_gender, on=[\"gender\",\"AgeGroup\"]),2)\n",
    "Claims_age_gender"
   ]
  },
  {
   "cell_type": "code",
   "execution_count": 71,
   "id": "48c2f509",
   "metadata": {},
   "outputs": [
    {
     "data": {
      "image/png": "[encoded data removed]",
      "text/plain": [
       "<Figure size 720x720 with 2 Axes>"
      ]
     },
     "metadata": {
      "needs_background": "light"
     },
     "output_type": "display_data"
    }
   ],
   "source": [
    "Claims_age_gender.plot(kind=\"bar\", subplots= True, legend= True,figsize=(10,10))\n",
    "plt.show()"
   ]
  },
  {
   "cell_type": "code",
   "execution_count": 72,
   "id": "3c26e91f",
   "metadata": {},
   "outputs": [],
   "source": [
    "#Question-16"
   ]
  },
  {
   "cell_type": "code",
   "execution_count": 73,
   "id": "13582ba2",
   "metadata": {},
   "outputs": [],
   "source": [
    "claim_male = Cust_claims['claim_amount'].loc[Cust_claims['gender']==\"Male\"]\n",
    "claim_female = Cust_claims['claim_amount'].loc[Cust_claims['gender']==\"Female\"]"
   ]
  },
  {
   "cell_type": "code",
   "execution_count": 74,
   "id": "0afa11af",
   "metadata": {},
   "outputs": [
    {
     "name": "stdout",
     "output_type": "stream",
     "text": [
      "The average amount claimed by males is 12884.829631308425\n",
      "The average amount claimed by females is 12100.692029236623\n"
     ]
    }
   ],
   "source": [
    "print(\"The average amount claimed by males is {}\".format(claim_male.mean()))\n",
    "\n",
    "print(\"The average amount claimed by females is {}\".format(claim_female.mean()))"
   ]
  },
  {
   "cell_type": "code",
   "execution_count": 75,
   "id": "700f72ca",
   "metadata": {},
   "outputs": [
    {
     "data": {
      "text/plain": [
       "0.9630529881732577"
      ]
     },
     "execution_count": 75,
     "metadata": {},
     "output_type": "execute_result"
    }
   ],
   "source": [
    "\n",
    "import scipy.stats as stats\n",
    "#checking the variance\n",
    "\n",
    "eq_var = stats.ttest_ind(a= claim_male,\n",
    "                b= claim_female,\n",
    "                equal_var=True)    # equal variance\n",
    "eq_var.statistic\n"
   ]
  },
  {
   "cell_type": "code",
   "execution_count": 76,
   "id": "92af4623",
   "metadata": {},
   "outputs": [
    {
     "data": {
      "text/plain": [
       "0.9637241707490979"
      ]
     },
     "execution_count": 76,
     "metadata": {},
     "output_type": "execute_result"
    }
   ],
   "source": [
    "uneq_var = stats.ttest_ind(a= claim_male,\n",
    "                b= claim_female,\n",
    "                equal_var=False)    # UnEqual variance\n",
    "uneq_var.statistic\n"
   ]
  },
  {
   "cell_type": "code",
   "execution_count": 77,
   "id": "c42dce89",
   "metadata": {},
   "outputs": [
    {
     "name": "stdout",
     "output_type": "stream",
     "text": [
      " For the above test, the t-score is 0.9630529881732577 and the p-value is 0.3357373087404285\n",
      "We fail to reject null hypothesis\n"
     ]
    }
   ],
   "source": [
    "t= eq_var.statistic\n",
    "p= eq_var.pvalue\n",
    "\n",
    "print(\" For the above test, the t-score is {} and the p-value is {}\".format(t,p))\n",
    "\n",
    "if(p<0.05):\n",
    "    print('We reject null hypothesis')\n",
    "else:\n",
    "    print('We fail to reject null hypothesis')"
   ]
  },
  {
   "cell_type": "code",
   "execution_count": 78,
   "id": "1bdd3b72",
   "metadata": {},
   "outputs": [],
   "source": [
    "# As the significance value of t test is greater than 0.05 we can safely conclude that there is a similarity in amount claimed by males and females."
   ]
  },
  {
   "cell_type": "code",
   "execution_count": 79,
   "id": "af628b3f",
   "metadata": {},
   "outputs": [],
   "source": [
    "#Question-17"
   ]
  },
  {
   "cell_type": "code",
   "execution_count": 80,
   "id": "d0718bd9",
   "metadata": {},
   "outputs": [
    {
     "data": {
      "text/html": [
       "<div>\n",
       "<style scoped>\n",
       "    .dataframe tbody tr th:only-of-type {\n",
       "        vertical-align: middle;\n",
       "    }\n",
       "\n",
       "    .dataframe tbody tr th {\n",
       "        vertical-align: top;\n",
       "    }\n",
       "\n",
       "    .dataframe thead th {\n",
       "        text-align: right;\n",
       "    }\n",
       "</style>\n",
       "<table border=\"1\" class=\"dataframe\">\n",
       "  <thead>\n",
       "    <tr style=\"text-align: right;\">\n",
       "      <th>Segment</th>\n",
       "      <th>Gold</th>\n",
       "      <th>Platinum</th>\n",
       "      <th>Silver</th>\n",
       "      <th>All</th>\n",
       "    </tr>\n",
       "    <tr>\n",
       "      <th>AgeGroup</th>\n",
       "      <th></th>\n",
       "      <th></th>\n",
       "      <th></th>\n",
       "      <th></th>\n",
       "    </tr>\n",
       "  </thead>\n",
       "  <tbody>\n",
       "    <tr>\n",
       "      <th>Adult</th>\n",
       "      <td>272</td>\n",
       "      <td>266</td>\n",
       "      <td>257</td>\n",
       "      <td>795</td>\n",
       "    </tr>\n",
       "    <tr>\n",
       "      <th>Senior</th>\n",
       "      <td>28</td>\n",
       "      <td>26</td>\n",
       "      <td>21</td>\n",
       "      <td>75</td>\n",
       "    </tr>\n",
       "    <tr>\n",
       "      <th>Youth</th>\n",
       "      <td>71</td>\n",
       "      <td>69</td>\n",
       "      <td>68</td>\n",
       "      <td>208</td>\n",
       "    </tr>\n",
       "    <tr>\n",
       "      <th>All</th>\n",
       "      <td>371</td>\n",
       "      <td>361</td>\n",
       "      <td>346</td>\n",
       "      <td>1078</td>\n",
       "    </tr>\n",
       "  </tbody>\n",
       "</table>\n",
       "</div>"
      ],
      "text/plain": [
       "Segment   Gold  Platinum  Silver   All\n",
       "AgeGroup                              \n",
       "Adult      272       266     257   795\n",
       "Senior      28        26      21    75\n",
       "Youth       71        69      68   208\n",
       "All        371       361     346  1078"
      ]
     },
     "execution_count": 80,
     "metadata": {},
     "output_type": "execute_result"
    }
   ],
   "source": [
    "agecat_seg = pd.crosstab(Cust_claims.AgeGroup, Cust_claims.Segment, margins = True)\n",
    "agecat_seg"
   ]
  },
  {
   "cell_type": "code",
   "execution_count": 81,
   "id": "c1d449b4",
   "metadata": {},
   "outputs": [
    {
     "data": {
      "text/plain": [
       "(0.6654696397990999,\n",
       " 0.999896981610665,\n",
       " 9,\n",
       " array([[ 273.6038961 ,  266.22912801,  255.16697588,  795.        ],\n",
       "        [  25.81168831,   25.11595547,   24.07235622,   75.        ],\n",
       "        [  71.58441558,   69.65491651,   66.7606679 ,  208.        ],\n",
       "        [ 371.        ,  361.        ,  346.        , 1078.        ]]))"
      ]
     },
     "execution_count": 81,
     "metadata": {},
     "output_type": "execute_result"
    }
   ],
   "source": [
    "Chi_test = stats.chi2_contingency(observed= agecat_seg)\n",
    "Chi_test"
   ]
  },
  {
   "cell_type": "code",
   "execution_count": 82,
   "id": "209a1ffc",
   "metadata": {},
   "outputs": [
    {
     "name": "stdout",
     "output_type": "stream",
     "text": [
      "The chi square stat is 0.6654696397990999 and the p value is 0.999896981610665\n"
     ]
    }
   ],
   "source": [
    "print(\"The chi square stat is {} and the p value is {}\".format(Chi_test[0],Chi_test[1]))"
   ]
  },
  {
   "cell_type": "code",
   "execution_count": 83,
   "id": "c166d1f8",
   "metadata": {},
   "outputs": [],
   "source": [
    "# Since the significance value of the test is greter than 0.05, we fail reject the null hypothesis. Therefore there is no relationship between age category and segment"
   ]
  },
  {
   "cell_type": "code",
   "execution_count": 84,
   "id": "cea0fa2e",
   "metadata": {},
   "outputs": [],
   "source": [
    "#Question-18"
   ]
  },
  {
   "cell_type": "code",
   "execution_count": 85,
   "id": "ae03d57c",
   "metadata": {},
   "outputs": [],
   "source": [
    "Cust_claims[\"Year\"]= Cust_claims['claim_month'].dt.year"
   ]
  },
  {
   "cell_type": "code",
   "execution_count": 86,
   "id": "eecff3c6",
   "metadata": {},
   "outputs": [],
   "source": [
    "#current year as per the data given in 2018"
   ]
  },
  {
   "cell_type": "code",
   "execution_count": 87,
   "id": "40f8331d",
   "metadata": {},
   "outputs": [],
   "source": [
    "Current_year= Cust_claims.loc[Cust_claims.Year == 2018][\"claim_amount\"]\n",
    "amt_2016_17= Cust_claims.loc[Cust_claims.Year==2017][\"claim_amount\"]"
   ]
  },
  {
   "cell_type": "code",
   "execution_count": null,
   "id": "f935a83a",
   "metadata": {},
   "outputs": [],
   "source": [
    "stats.pearsonr(Current_year,amt_2016_17)"
   ]
  },
  {
   "cell_type": "code",
   "execution_count": 89,
   "id": "9c3fb350",
   "metadata": {},
   "outputs": [],
   "source": [
    "#Question-19"
   ]
  },
  {
   "cell_type": "code",
   "execution_count": 90,
   "id": "5045db67",
   "metadata": {},
   "outputs": [],
   "source": [
    "# Here we will perform Ftest ANOVA\n",
    "\n",
    "# H0 : mean(AgeGroup[Youth]) == mean(AgeGroup[Adult]) (No difference between age groups and insurance claims or No influence of age groups on insurance claims) Ha : mean(AgeGroup[Youth]) != mean(AgeGroup[Adult]) (There is some difference between age groups and insurance claims or there is some influence of age groups on insurance claims)"
   ]
  },
  {
   "cell_type": "code",
   "execution_count": 92,
   "id": "90ed9816",
   "metadata": {},
   "outputs": [
    {
     "name": "stdout",
     "output_type": "stream",
     "text": [
      "The f-value is 0.9080839705107974 and the p value is 0.34085335479229917\n",
      "We fail to reject null hypothesis\n"
     ]
    }
   ],
   "source": [
    "age_group_1 = Cust_claims['total_policy_claims'].loc[Cust_claims['AgeGroup']==\"Youth\"]\n",
    "age_group_2 = Cust_claims['total_policy_claims'].loc[Cust_claims['AgeGroup']==\"Adult\"]\n",
    "# Perfrom the Anova\n",
    "anova = stats.f_oneway(age_group_1,age_group_2)\n",
    "# Statistic :  F Value\n",
    "f = anova.statistic\n",
    "p = anova.pvalue\n",
    "print(\"The f-value is {} and the p value is {}\".format(f,p))\n",
    "if(p<0.05):\n",
    "    print('We reject null hypothesis')\n",
    "else:\n",
    "    print('We fail to reject null hypothesis')"
   ]
  },
  {
   "cell_type": "code",
   "execution_count": 93,
   "id": "418d972a",
   "metadata": {},
   "outputs": [],
   "source": [
    "# Since the significance value of the test is greater than 0.05, we fail reject the null hypothesis. Therefore, there is no difference between age groups and insurance claims or No influence of age groups on insurance claims"
   ]
  },
  {
   "cell_type": "code",
   "execution_count": 94,
   "id": "d6d5375b",
   "metadata": {},
   "outputs": [],
   "source": [
    "Cust_claims['total_policy_claims'] = pd.to_numeric(Cust_claims['total_policy_claims'])"
   ]
  },
  {
   "cell_type": "code",
   "execution_count": 95,
   "id": "45971dd7",
   "metadata": {},
   "outputs": [
    {
     "data": {
      "text/plain": [
       "-0.022392720732099986"
      ]
     },
     "execution_count": 95,
     "metadata": {},
     "output_type": "execute_result"
    }
   ],
   "source": [
    "#Correlation\n",
    "Cust_claims.total_policy_claims.corr(other= Cust_claims.claim_amount)"
   ]
  },
  {
   "cell_type": "code",
   "execution_count": 96,
   "id": "a8b8fde4",
   "metadata": {},
   "outputs": [],
   "source": [
    "# As the correlation is negative the number of policy claims in inversely propotional to the claimed amount."
   ]
  },
  {
   "cell_type": "code",
   "execution_count": null,
   "id": "341b098f",
   "metadata": {},
   "outputs": [],
   "source": []
  }
 ],
 "metadata": {
  "kernelspec": {
   "display_name": "Python 3 (ipykernel)",
   "language": "python",
   "name": "python3"
  },
  "language_info": {
   "codemirror_mode": {
    "name": "ipython",
    "version": 3
   },
   "file_extension": ".py",
   "mimetype": "text/x-python",
   "name": "python",
   "nbconvert_exporter": "python",
   "pygments_lexer": "ipython3",
   "version": "3.9.12"
  }
 },
 "nbformat": 4,
 "nbformat_minor": 5
}
